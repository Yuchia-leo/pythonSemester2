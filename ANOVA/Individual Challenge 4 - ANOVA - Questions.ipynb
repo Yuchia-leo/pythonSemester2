{
 "cells": [
  {
   "cell_type": "markdown",
   "id": "113c914e",
   "metadata": {},
   "source": [
    "**YOUR NAME = \"Yujia Liu\"**"
   ]
  },
  {
   "cell_type": "markdown",
   "id": "5cae6691",
   "metadata": {},
   "source": [
    "***\n",
    "\n",
    "## Individual Challenge 4: ANOVA\n",
    "\n",
    "\n",
    "Analysis of Variance (ANOVA) is a statistical method used to determine whether there are any statistically significant differences between the means of three or more independent groups. It assesses whether the variability within groups is consistent with what would be expected by chance or if there are systematic differences that can be attributed to different conditions or treatments.\n",
    "\n",
    "For this task, you will use the American National Election Study (ANES) (https://electionstudies.org/) to study differences among people who identify as Democrats, Republicans, and Independents. ANES is a national survey of voters in the United States, conducted before and after every presidential election.\n",
    "\n",
    "Your first task is to perform ANOVA on this dataset to determine whether there are significant differences in the number of guns owned by these groups. Subsequently, you are encouraged to apply ANOVA to another variable that interests you in the second task.\n",
    "\n",
    "Preparatory material: \n",
    "1. Statistical Thinking for the 21st Century, Chapter 15.6: https://statsthinking21.github.io/statsthinking21-core-site/comparing-means.html#comparing-more-than-two-means\n",
    "2. Statistics by Jim, ANOVA tab: https://statisticsbyjim.com/anova/\n",
    "***"
   ]
  },
  {
   "cell_type": "markdown",
   "id": "1fc6e4ff",
   "metadata": {},
   "source": [
    "## Read and explore the data"
   ]
  },
  {
   "cell_type": "code",
   "execution_count": 54,
   "id": "21c3e8d6",
   "metadata": {},
   "outputs": [],
   "source": [
    "# First, ensure that you have the necessary Python libraries correctly installed.\n",
    "\n",
    "import pandas as pd\n",
    "import numpy as np\n",
    "import matplotlib.pyplot as plt\n",
    "import seaborn as sns\n",
    "from scipy.stats import f_oneway # ANOVA test\n",
    "from statsmodels.stats.multicomp import pairwise_tukeyhsd # Tukey test\n",
    "from scipy.stats import levene # Levene test\n",
    "from scipy.stats import normaltest # D'Agostino's K^2 test"
   ]
  },
  {
   "cell_type": "code",
   "execution_count": 55,
   "id": "b530cf97",
   "metadata": {},
   "outputs": [],
   "source": [
    "# Read and explore the data\n",
    "df = pd.read_csv('anes_dataset.csv', low_memory=False)\n",
    "\n",
    "# As you can see, most variables begin with \"V\" and lack clear names that directly identify what they measure.\n",
    "# You can refer to the ANES codebook (available on Canvas) if you would like to learn more about specific variables."
   ]
  },
  {
   "cell_type": "markdown",
   "id": "54fa28ba",
   "metadata": {},
   "source": [
    "## Task 1: Partisan identification and the guns owned"
   ]
  },
  {
   "cell_type": "markdown",
   "id": "a895c30e",
   "metadata": {},
   "source": [
    "For the first task, we are focusing on two variables: partisan identification and the number of guns owned."
   ]
  },
  {
   "cell_type": "markdown",
   "id": "099b8b11",
   "metadata": {},
   "source": [
    "The variable 'V201228' contains information on the partisan identification of respondents. The question was phrased as follows: \"Do you think of self as democrat, republican, or independent?\"\n",
    "\n",
    "The answers to this question are coded as follows:\n",
    "\n",
    "-9: Refused\n",
    "\n",
    "-8: Don’t know\n",
    "\n",
    "-4: Technical error\n",
    "\n",
    "0: No preference\n",
    "\n",
    "1: Democrat\n",
    "\n",
    "2: Republican\n",
    "\n",
    "3: Independent\n",
    "\n",
    "5: Other party"
   ]
  },
  {
   "cell_type": "markdown",
   "id": "7eb12c63",
   "metadata": {},
   "source": [
    "The variable 'V201628' provides information on the number of guns owned by respondents. The question was posed as follows: \"How many guns do you or anyone else living here own?\"\n",
    "\n",
    "The responses to this question indicate the number of guns owned. In other instances, the answers were coded as follows:\n",
    "\n",
    "-9. Refused\n",
    "\n",
    "-5. Interview breakoff"
   ]
  },
  {
   "cell_type": "code",
   "execution_count": 56,
   "id": "d518ec4e",
   "metadata": {},
   "outputs": [],
   "source": [
    "# Rename the 'V201228' variable into 'party' variable.\n",
    "# Rename the 'V201628' variable into 'guns' variable.\n",
    "\n",
    "# YOUR CODE HERE\n",
    "df.rename(columns={'V201228': 'party', 'V201628': 'guns'}, inplace=True)"
   ]
  },
  {
   "cell_type": "code",
   "execution_count": 57,
   "id": "d9118895",
   "metadata": {},
   "outputs": [],
   "source": [
    "# In the 'party' variable, leave only three categories (democrat, republican, independent) and recode all other values as missing values.\n",
    "# In the 'guns' variable, recode -9 and -5 as missing values.\n",
    "\n",
    "# YOUR CODE HERE\n",
    "df.loc[~df['party'].isin([1,2,3]),'party'] = np.nan\n",
    "df.loc[df['guns'].isin([-9,-5]),'guns'] = np.nan\n"
   ]
  },
  {
   "cell_type": "code",
   "execution_count": 58,
   "id": "d435aff9",
   "metadata": {},
   "outputs": [],
   "source": [
    "# Drop missing values in both columns\n",
    "\n",
    "# YOUR CODE HERE\n",
    "df.dropna(subset=['party', 'guns'], inplace=True)"
   ]
  },
  {
   "cell_type": "code",
   "execution_count": 59,
   "id": "29f62dad",
   "metadata": {},
   "outputs": [],
   "source": [
    "# In 'guns' variable, drop cases with > 50 guns.\n",
    "\n",
    "# YOUR CODE HERE\n",
    "df = df[df['guns'] <= 50]"
   ]
  },
  {
   "cell_type": "code",
   "execution_count": 60,
   "id": "603ebd85",
   "metadata": {},
   "outputs": [
    {
     "name": "stderr",
     "output_type": "stream",
     "text": [
      "/var/folders/2g/xfsvxxmd2158x4mn_qg2ycpr0000gn/T/ipykernel_26648/4106245799.py:4: FutureWarning: Setting an item of incompatible dtype is deprecated and will raise in a future error of pandas. Value 'Democrat' has dtype incompatible with float64, please explicitly cast to a compatible dtype first.\n",
      "  df.loc[df['party']==1,'party']='Democrat'\n"
     ]
    }
   ],
   "source": [
    "# Display summary statistics of these two variables and interpret them.\n",
    "\n",
    "# YOUR CODE HERE\n",
    "df.loc[df['party']==1,'party']='Democrat'\n",
    "df.loc[df['party']==2,'party']='Republican'\n",
    "df.loc[df['party']==3,'party']='Independent'"
   ]
  },
  {
   "cell_type": "code",
   "execution_count": 61,
   "id": "b25d3dff",
   "metadata": {},
   "outputs": [
    {
     "data": {
      "text/plain": [
       "count         7341\n",
       "unique           3\n",
       "top       Democrat\n",
       "freq          2766\n",
       "Name: party, dtype: object"
      ]
     },
     "execution_count": 61,
     "metadata": {},
     "output_type": "execute_result"
    }
   ],
   "source": [
    "# describe party\n",
    "df['party'].describe()"
   ]
  },
  {
   "cell_type": "markdown",
   "id": "8c9557f5",
   "metadata": {},
   "source": [
    "This says that there are 7341 pieces of data in the 'party' column; there are three kinds of unique data in this column; Among these pieces of data\n",
    ", Democrat takes the biggest part which appears 2766 times."
   ]
  },
  {
   "cell_type": "code",
   "execution_count": 62,
   "id": "3e65df23",
   "metadata": {},
   "outputs": [
    {
     "data": {
      "text/plain": [
       "count    7341.000000\n",
       "mean        1.420106\n",
       "std         3.538353\n",
       "min         0.000000\n",
       "25%         0.000000\n",
       "50%         0.000000\n",
       "75%         1.000000\n",
       "max        50.000000\n",
       "Name: guns, dtype: float64"
      ]
     },
     "execution_count": 62,
     "metadata": {},
     "output_type": "execute_result"
    }
   ],
   "source": [
    "# describe guns\n",
    "df['guns'].describe()"
   ]
  },
  {
   "cell_type": "markdown",
   "id": "b8d62c44",
   "metadata": {},
   "source": [
    "This says that in 'guns' column, there are 7341 pieces of data; the mean of these numbers is 1.42 which means people have 1.42 (nearly 2) guns individually; The standard variance is 3.538353; the minimun value is 0; the maximum value is 50."
   ]
  },
  {
   "cell_type": "code",
   "execution_count": 63,
   "id": "d1a865fa",
   "metadata": {},
   "outputs": [
    {
     "data": {
      "text/plain": [
       "<Axes: xlabel='party', ylabel='guns'>"
      ]
     },
     "execution_count": 63,
     "metadata": {},
     "output_type": "execute_result"
    },
    {
     "data": {
      "image/png": "[encoded data removed]",
      "text/plain": [
       "<Figure size 640x480 with 1 Axes>"
      ]
     },
     "metadata": {},
     "output_type": "display_data"
    }
   ],
   "source": [
    "# Create a boxplot to visualize the distribution of gun ownership across three partisan groups and interpret the visualization.\n",
    "\n",
    "# YOUR CODE HERE\n",
    "sns.boxplot(x='party',y='guns',data=df)"
   ]
  },
  {
   "cell_type": "markdown",
   "id": "7a95051c",
   "metadata": {},
   "source": [
    "***\n",
    "**Interpretaton question 1:**\n",
    "\n",
    "You are interested in understanding the differences in gun ownership among individuals from different partisan groups. Formulate a null hypothesis and an alternative hypothesis.\n",
    "***"
   ]
  },
  {
   "cell_type": "markdown",
   "id": "f146712e",
   "metadata": {},
   "source": [
    "**Your answer:** "
   ]
  },
  {
   "cell_type": "markdown",
   "id": "c8c59b14",
   "metadata": {},
   "source": [
    "*Null Hypothesis:* \n",
    "There is no relationship between the number of guns owned by an individual and different party groups. <br>\n",
    "*Alternative Hypothesis:* \n",
    "There exists relationship between the number of guns owned by individuals and different party groups."
   ]
  },
  {
   "cell_type": "markdown",
   "id": "36f290c9",
   "metadata": {},
   "source": [
    "## Perform ANOVA test"
   ]
  },
  {
   "cell_type": "code",
   "execution_count": 64,
   "id": "0c90ff71",
   "metadata": {},
   "outputs": [
    {
     "name": "stdout",
     "output_type": "stream",
     "text": [
      "F_onewayResult(statistic=135.08004562809072, pvalue=2.4524507862127697e-58)\n"
     ]
    }
   ],
   "source": [
    "# Perform ANOVA test comparing the mean number of guns owned among three partisan groups.\n",
    "\n",
    "anova = f_oneway(df['guns'][df['party'] == 'Democrat'],\n",
    "                         df['guns'][df['party'] == 'Republican'],\n",
    "                         df['guns'][df['party'] == 'Independent'])\n",
    "\n",
    "print(anova)"
   ]
  },
  {
   "cell_type": "markdown",
   "id": "dec0d601",
   "metadata": {},
   "source": [
    "***\n",
    "\n",
    "**Interpretaton question 2:** \n",
    "\n",
    "Interpret the findings of your ANOVA test. \n",
    "Explain why you accept/reject the alternative hypothesis.\n",
    "Provide an intuitive explanation and then also one in which you demonstrate your mathematical knowledge, while using the terms \"mean\", \"variance\", \"p-value\", \"f-statistic\" in your answer.\n",
    "\n",
    "\n",
    "***\n"
   ]
  },
  {
   "cell_type": "markdown",
   "id": "904129f4",
   "metadata": {},
   "source": [
    "**Your answer:**\n"
   ]
  },
  {
   "cell_type": "markdown",
   "id": "833d7644",
   "metadata": {},
   "source": [
    "I accept the alternative hypothesis. Here is the reason: Variances are the sum of the squared deviations from the mean. F statistic which is also called F value is the mean square of each independent variable divided by the mean square of the residuals. It's the ratio of between-groups to within-groups variances as well. The larger the F value, the more likely it is that the variation associated with the independent variable is real and not due to chance. The F statistic of this test is 135.08004562809072. It's big enough to prove that this there are differences among the levels of the independent variable and test is valid. P value here is the p value of the F statistic. This shows how likely it is that the F value calculated from the test would have occurred if the null hypothesis of no difference among group means were true. We ususally compare it with 0.05. In the test above, the p value is much lower than 0.05. This means the null hypothesis is unlikely to happen which also means we can accept the alternative hypothesis that the number of guns owned by individuals is related to different party groups."
   ]
  },
  {
   "cell_type": "markdown",
   "id": "36a570b3",
   "metadata": {},
   "source": [
    "## Post-hoc analysis"
   ]
  },
  {
   "cell_type": "markdown",
   "id": "df930061",
   "metadata": {},
   "source": [
    "The ANOVA test can tell you if differences in group means are significant. However, ANOVA cannot identify which specific differences between pairs of means are significant. For this, you need to use post-hoc tests. You should conduct post-hoc tests only if your ANOVA results are statistically significant."
   ]
  },
  {
   "cell_type": "code",
   "execution_count": 65,
   "id": "7e384630",
   "metadata": {},
   "outputs": [
    {
     "name": "stdout",
     "output_type": "stream",
     "text": [
      "    Multiple Comparison of Means - Tukey HSD, FWER=0.05    \n",
      "===========================================================\n",
      "   group1      group2   meandiff p-adj lower  upper  reject\n",
      "-----------------------------------------------------------\n",
      "   Democrat Independent   0.6372   0.0 0.4079 0.8665   True\n",
      "   Democrat  Republican    1.618   0.0 1.3868 1.8492   True\n",
      "Independent  Republican   0.9808   0.0 0.7399 1.2217   True\n",
      "-----------------------------------------------------------\n"
     ]
    }
   ],
   "source": [
    "# If your ANOVA result is significant, perform a post-hoc analysis using Tukey’s Method.\n",
    "# Tukey’s method is the most commonly used post-hoc test for comparing all possible group pairings.\n",
    "\n",
    "tukey = pairwise_tukeyhsd(endog=df['guns'], groups=df['party'], alpha=0.05)\n",
    "\n",
    "print(tukey)"
   ]
  },
  {
   "cell_type": "markdown",
   "id": "65630f99",
   "metadata": {},
   "source": [
    "The rows of the table identify the groups to be compared. For example, the first row compares 'Democrats' with 'Independents'.\n",
    "\n",
    "The 'meandiff' column represents the difference in means between the groups, where a positive value indicates that the second group has a higher mean than the first group.\n",
    "\n",
    "The 'p-adj' column shows the statistical significance.\n",
    "\n",
    "The 'lower' and 'upper' columns provide the lower and upper bounds of the 95% confidence interval for the mean difference.\n",
    "\n",
    "The 'reject' column indicates a statistically significant difference between the group means. A value of 'False' means that the null hypothesis of equal means for that particular pairwise comparison is not rejected."
   ]
  },
  {
   "cell_type": "code",
   "execution_count": 66,
   "id": "587aaab1",
   "metadata": {},
   "outputs": [
    {
     "data": {
      "image/png": "[encoded data removed]",
      "text/plain": [
       "<Figure size 1000x600 with 1 Axes>"
      ]
     },
     "metadata": {},
     "output_type": "display_data"
    }
   ],
   "source": [
    "# You can also plot the results to explore them visually\n",
    "tukey.plot_simultaneous()\n",
    "plt.show()"
   ]
  },
  {
   "cell_type": "markdown",
   "id": "3aa6e2aa",
   "metadata": {},
   "source": [
    "***\n",
    "\n",
    "**Interpretaton question 3:** \n",
    "\n",
    "Interpret the findings of your post-hoc test. Explain which specific group means differ. \n",
    "Provide an intuitive explanation and then also one in which you demonstrate your mathematical knowledge, while using the terms \"mean difference\", \"confidence interval\", \"p-value\", \"statistical significance\"in your answer.\n",
    "\n",
    "\n",
    "***\n"
   ]
  },
  {
   "cell_type": "markdown",
   "id": "f80a6117",
   "metadata": {},
   "source": [
    "**Your answer:** "
   ]
  },
  {
   "cell_type": "markdown",
   "id": "765098c5",
   "metadata": {},
   "source": [
    "This tells us that there is statistical significance between Democrat and Republican, with a mean difference of 1.618 gun (adjusted p value < 0.01) which can be 95% confident that the overall mean is between 1.3868 and 1.8492 guns; between Democrat and Independent, with a mean difference of 0.6372 gun (adjusted p value < 0.01) which can be 95% confident that the overall mean is between 0.4079 and 0.8665 guns;between Republican and Independent, with a mean difference of 0.9808 (adjusted p value < 0.01) which can be 95% confident that the overall mean is between 0.7399 and 1.2217 guns."
   ]
  },
  {
   "cell_type": "markdown",
   "id": "8c5f23b4",
   "metadata": {},
   "source": [
    "## ANOVA assumptions"
   ]
  },
  {
   "cell_type": "markdown",
   "id": "00c482a1",
   "metadata": {},
   "source": [
    "It's essential to test for ANOVA assumptions before conducting the analysis. However, since we have already conducted ANOVA without testing its assumptions, let's address them now. Testing these assumptions ensures the validity and reliability of our analysis"
   ]
  },
  {
   "cell_type": "markdown",
   "id": "23aff576",
   "metadata": {},
   "source": [
    "ANOVA tests have the same assumptions as other linear models. ANOVA assumptions are:\n",
    "\n",
    "1. The dependent variable is continuous and you have at least one categorical independent variable.\n",
    "2. The observations are independent.\n",
    "3. The groups should have roughly equal variances.\n",
    "4. The data in the groups should follow a normal distribution."
   ]
  },
  {
   "cell_type": "markdown",
   "id": "edd9b7ec",
   "metadata": {},
   "source": [
    "Let's look at each of them in more detail."
   ]
  },
  {
   "cell_type": "markdown",
   "id": "3a24e64d",
   "metadata": {},
   "source": [
    "**1. The dependent variable is continuous and you have at least one categorical independent variable.**\n",
    "\n",
    "**2. The observations are independent.**\n",
    "This assumption means that the observations in one group should not be influenced by the observations in another group, and each observation in the dataset is collected without being influenced by the other observations in the dataset."
   ]
  },
  {
   "cell_type": "markdown",
   "id": "41a9f886",
   "metadata": {},
   "source": [
    "**3. The groups should have roughly equal variances.**"
   ]
  },
  {
   "cell_type": "code",
   "execution_count": 67,
   "id": "3286ca99",
   "metadata": {},
   "outputs": [
    {
     "name": "stdout",
     "output_type": "stream",
     "text": [
      "Levene's test statistic: 142.5398373273391, p-value: 1.8533382029794984e-61\n"
     ]
    }
   ],
   "source": [
    "# We will use Levene's test equality of variances\n",
    "\n",
    "stat, p = levene(df[df['party'] == 'Democrat']['guns'],\n",
    "                 df[df['party'] == 'Republican']['guns'],\n",
    "                 df[df['party'] == 'Independent']['guns'])\n",
    "\n",
    "print(f\"Levene's test statistic: {stat}, p-value: {p}\")"
   ]
  },
  {
   "cell_type": "markdown",
   "id": "f8e29d7e",
   "metadata": {},
   "source": [
    "If the p-value of Levene's test is less than commonly established significance level in statistical tests, then the variances are not equal across groups. "
   ]
  },
  {
   "cell_type": "markdown",
   "id": "ac75c28a",
   "metadata": {},
   "source": [
    "**4. The data in the groups should follow a normal distribution.**"
   ]
  },
  {
   "cell_type": "code",
   "execution_count": 68,
   "id": "7bbb6aa3",
   "metadata": {},
   "outputs": [
    {
     "name": "stdout",
     "output_type": "stream",
     "text": [
      "D'Agostino's K^2 test statistic: 8118.6839259285325, p-value: 0.0\n"
     ]
    }
   ],
   "source": [
    "# You can visualize the distribution of your 'guns' variable to explore it visually.\n",
    "# However, a more reliable method involves using a statistical test. In this case, we will use D'Agostino's K^2 test.\n",
    "\n",
    "stat, p = normaltest(df['guns'])\n",
    "print(f\"D'Agostino's K^2 test statistic: {stat}, p-value: {p}\")"
   ]
  },
  {
   "cell_type": "markdown",
   "id": "37456656",
   "metadata": {},
   "source": [
    "Significant D'Agostino's K^2 test indicates that the data is not normally distributed."
   ]
  },
  {
   "cell_type": "markdown",
   "id": "922901de",
   "metadata": {},
   "source": [
    "***\n",
    "\n",
    "**Interpretaton question 4:** \n",
    "\n",
    "Describe if the assumptions 1 and 2 are met. Do you have the right types of variables to run your ANOVA test? Do you think that observations are independent of each other? You might want to read a bit more about the ANES dataset to address the second assumption.\n",
    "\n",
    "Determine whether assumptions 3 and 4 are satisfied. Do your groups exhibit equal variances, and is your dependent variable normally distributed?\n",
    "\n",
    "What do the outcomes of your assumption testing imply for your ANOVA results? Can you proceed with the ANOVA test or not? If yes, explain why. If no, provide your reasoning.\n",
    "\n",
    "\n",
    "***\n"
   ]
  },
  {
   "cell_type": "markdown",
   "id": "6e47c5f5",
   "metadata": {},
   "source": [
    "**Your answer:** "
   ]
  },
  {
   "cell_type": "markdown",
   "id": "77c1c719",
   "metadata": {},
   "source": [
    "1. I think Assumptions 1 and 2 are satisfied. Because a continuous variable is a variable whose value is obtained by measuring, the data here is also measured. And it is also required that the dependent variable be at least one categorical variable. In this example, the dependent variable is parties, which is a categorical variable. So they meet the requirement for the first assumptions. I think the observation are independent, because they do not convey information about each other.<br>\n",
    "\n",
    "2. Assumptions 3 and 4 are not satisfied. Because in the Levene's test, the p value is much lower than commonly established significance level. So they don't have roughly equal variance which doesn't reach the third assumption. For the forth, we can find out they don't follow a normal distribution through D'Agostino's K^2 test.<br>\n",
    "\n",
    "3. The outcomes of  my assumption testing imply for my ANOVA results: uneven variances, ANOVA may produce distorted results. Because ANOVA assumes that the variances of each group are equal, if this assumption is not true, the results of ANOVA may be inaccurate; the data does not follow a normal distribution: The data does not follow a normal distribution, and the assumptions of ANOVA are no longer true, resulting in unreliable results. The assumption testing results show that the assumptions of ANOVA are not valid. I cannot continue to perform standard ANOVA tests because this will affect the accuracy of the experimental data and lead to wrong conclusions."
   ]
  },
  {
   "cell_type": "markdown",
   "id": "14bec824",
   "metadata": {},
   "source": [
    "## Task 2: Explore more differences among these political groups"
   ]
  },
  {
   "cell_type": "markdown",
   "id": "b753b931",
   "metadata": {},
   "source": [
    "Choose another continuous variable from the dataset (refer to the ANES codebook for this).\n",
    "\n",
    "Following the same procedure, conduct another ANOVA test to examine how these three political groups differ based on another characteristic.\n",
    "\n",
    "Run the ANOVA test, perform ad-hoc tests if your findings are significant, and check for ANOVA assumptions."
   ]
  },
  {
   "cell_type": "markdown",
   "id": "246b04da",
   "metadata": {},
   "source": [
    "*Null Hypothesis:* \n",
    "There is no relationship between the number of their grandparents who were not born in the US and different party groups. <br>\n",
    "*Alternative Hypothesis:* \n",
    "There exists relationship between the number of their grandparents who were not born in the US and different party groups."
   ]
  },
  {
   "cell_type": "code",
   "execution_count": 69,
   "id": "8b066486",
   "metadata": {},
   "outputs": [],
   "source": [
    "# In this ANOVA test, I will compare the relationship between the three political groups(Democrat, Republican, and Independent) \n",
    "# and how many their grandparents were born outside the US.\n",
    "# Because in the test above, we have cleaned the data of party, so we can just use that without any corrections.\n",
    "# Rename the 'V201555' variable into 'gp_outside' variable.\n",
    "df.rename(columns={'V201555': 'gdparents'}, inplace=True)"
   ]
  },
  {
   "cell_type": "code",
   "execution_count": 70,
   "id": "df1962e0",
   "metadata": {},
   "outputs": [],
   "source": [
    "# In the 'guns' variable, recode -9 and -8 as missing values.\n",
    "df.loc[df['gdparents'].isin([-9,-8]),'gdparents'] = np.nan"
   ]
  },
  {
   "cell_type": "code",
   "execution_count": 71,
   "id": "d60c9bf6",
   "metadata": {},
   "outputs": [],
   "source": [
    "# Drop missing values in the columns\n",
    "df.dropna(subset=['gdparents'],inplace=True)"
   ]
  },
  {
   "cell_type": "code",
   "execution_count": 87,
   "id": "c9dbf95b",
   "metadata": {},
   "outputs": [
    {
     "data": {
      "text/plain": [
       "Text(0, 0.5, 'The numbersnof grandparents born outside the US')"
      ]
     },
     "execution_count": 87,
     "metadata": {},
     "output_type": "execute_result"
    },
    {
     "data": {
      "image/png": "[encoded data removed]",
      "text/plain": [
       "<Figure size 640x480 with 1 Axes>"
      ]
     },
     "metadata": {},
     "output_type": "display_data"
    }
   ],
   "source": [
    "sns.boxplot(x='party',y='gdparents',data=df)\n",
    "plt.xlabel('Party')\n",
    "plt.ylabel('The numbersnof grandparents born outside the US')"
   ]
  },
  {
   "cell_type": "code",
   "execution_count": 73,
   "id": "9ea4667f",
   "metadata": {},
   "outputs": [
    {
     "name": "stdout",
     "output_type": "stream",
     "text": [
      "F_onewayResult(statistic=28.45234776967861, pvalue=4.911580977302452e-13)\n"
     ]
    }
   ],
   "source": [
    "# Conduct an ANOVA test\n",
    "anova = f_oneway(df['gdparents'][df['party'] == 'Democrat'],\n",
    "                         df['gdparents'][df['party'] == 'Republican'],\n",
    "                         df['gdparents'][df['party'] == 'Independent'])\n",
    "\n",
    "print(anova)"
   ]
  },
  {
   "cell_type": "markdown",
   "id": "d8bab466",
   "metadata": {},
   "source": [
    "I accept the alternative hypothesis. Here's why: The variance is the sum of the squares of the deviations from the mean. The F statistic, also known as the F value, is the mean square of each independent variable divided by the mean square of the residuals. It is also the ratio of between-group variance to within-group variance. The larger the F value, the more likely it is that the changes associated with the independent variable are real and not due to chance. The F statistic for this test is 28.45234776967861. It is large enough to demonstrate that there is a difference between the levels of the independent variables and that the test is valid. The P value here is the p value of the F statistic. This shows how likely it is that the F value calculated from the test will occur if the null hypothesis that there is no difference between group means is true. We usually compare this to 0.05. In the test above, the p-value is well below 0.05. This means that the null hypothesis is unlikely to occur, which also means that we can accept the alternative hypothesis that different party groups are associated with the number of grandparents not born in the United States."
   ]
  },
  {
   "cell_type": "code",
   "execution_count": 83,
   "id": "c5b861a2",
   "metadata": {},
   "outputs": [
    {
     "name": "stdout",
     "output_type": "stream",
     "text": [
      "0       2.0\n",
      "2       0.0\n",
      "3       4.0\n",
      "4       4.0\n",
      "5       0.0\n",
      "       ... \n",
      "8275    4.0\n",
      "8276    4.0\n",
      "8277    4.0\n",
      "8278    0.0\n",
      "8279    4.0\n",
      "Name: gdparents, Length: 7302, dtype: float64\n",
      "0        Republican\n",
      "2       Independent\n",
      "3        Republican\n",
      "4       Independent\n",
      "5       Independent\n",
      "           ...     \n",
      "8275     Republican\n",
      "8276     Republican\n",
      "8277       Democrat\n",
      "8278     Republican\n",
      "8279       Democrat\n",
      "Name: party, Length: 7302, dtype: object\n"
     ]
    }
   ],
   "source": [
    "print(df['gdparents'])\n",
    "print(df['party'])"
   ]
  },
  {
   "cell_type": "code",
   "execution_count": 81,
   "id": "fdf0018b",
   "metadata": {},
   "outputs": [
    {
     "name": "stdout",
     "output_type": "stream",
     "text": [
      "     Multiple Comparison of Means - Tukey HSD, FWER=0.05      \n",
      "==============================================================\n",
      "   group1      group2   meandiff p-adj   lower   upper  reject\n",
      "--------------------------------------------------------------\n",
      "   Democrat Independent  -0.1397 0.0049 -0.2441 -0.0352   True\n",
      "   Democrat  Republican  -0.3384    0.0 -0.4437 -0.2332   True\n",
      "Independent  Republican  -0.1988 0.0001 -0.3084 -0.0891   True\n",
      "--------------------------------------------------------------\n"
     ]
    }
   ],
   "source": [
    "tukey = pairwise_tukeyhsd(endog=df['gdparents'], groups=df['party'], alpha=0.05)\n",
    "\n",
    "print(tukey)"
   ]
  },
  {
   "cell_type": "markdown",
   "id": "d09ab5c0",
   "metadata": {},
   "source": [
    "From the adjusted p values of the three groups, we can find that they are all lower than 0.05 meaning that they have statistical significance between. From 'reject' column, they all show 'True', so we can reject the null hypothesis."
   ]
  },
  {
   "cell_type": "code",
   "execution_count": 75,
   "id": "039b43cf",
   "metadata": {},
   "outputs": [
    {
     "data": {
      "image/png": "[encoded data removed]",
      "text/plain": [
       "<Figure size 1000x600 with 1 Axes>"
      ]
     },
     "metadata": {},
     "output_type": "display_data"
    }
   ],
   "source": [
    "tukey.plot_simultaneous()\n",
    "plt.show()"
   ]
  },
  {
   "cell_type": "code",
   "execution_count": 76,
   "id": "bb6d2cbf",
   "metadata": {},
   "outputs": [
    {
     "name": "stdout",
     "output_type": "stream",
     "text": [
      "Levene's test statistic: 28.452347769678624, p-value: 4.911580977302452e-13\n"
     ]
    }
   ],
   "source": [
    "# We will use Levene's test equality of variances\n",
    "\n",
    "stat, p = levene(df[df['party'] == 'Democrat']['gdparents'],\n",
    "                 df[df['party'] == 'Republican']['gdparents'],\n",
    "                 df[df['party'] == 'Independent']['gdparents'])\n",
    "\n",
    "print(f\"Levene's test statistic: {stat}, p-value: {p}\")"
   ]
  },
  {
   "cell_type": "markdown",
   "id": "ece9aa8f",
   "metadata": {},
   "source": [
    "From the two pieces of data, we can find that the p-value of this Levene's test is more than commonly established significance level in statistical tests, meaning the variances are equal across groups."
   ]
  },
  {
   "cell_type": "code",
   "execution_count": 77,
   "id": "f3ef1f4c",
   "metadata": {},
   "outputs": [
    {
     "name": "stdout",
     "output_type": "stream",
     "text": [
      "D'Agostino's K^2 test statistic: 1207.6613100508835, p-value: 5.7501413205389204e-263\n"
     ]
    }
   ],
   "source": [
    "stat, p = normaltest(df['gdparents'])\n",
    "print(f\"D'Agostino's K^2 test statistic: {stat}, p-value: {p}\")"
   ]
  },
  {
   "cell_type": "markdown",
   "id": "f997abab",
   "metadata": {},
   "source": [
    "Significant D'Agostino's K^2 test indicates that the data is not normally distributed. This indicates that this analysis of variance may produce inaccurate or unreliable results, so we may want to use other methods (such as non-parametric tests) to test this hypothesis."
   ]
  }
 ],
 "metadata": {
  "kernelspec": {
   "display_name": "Python 3 (ipykernel)",
   "language": "python",
   "name": "python3"
  },
  "language_info": {
   "codemirror_mode": {
    "name": "ipython",
    "version": 3
   },
   "file_extension": ".py",
   "mimetype": "text/x-python",
   "name": "python",
   "nbconvert_exporter": "python",
   "pygments_lexer": "ipython3",
   "version": "3.11.5"
  }
 },
 "nbformat": 4,
 "nbformat_minor": 5
}
