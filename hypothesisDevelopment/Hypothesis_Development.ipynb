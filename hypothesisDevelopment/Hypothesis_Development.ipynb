{
 "cells": [
  {
   "cell_type": "markdown",
   "metadata": {},
   "source": [
    "## 1. Import the appropriate libraries"
   ]
  },
  {
   "cell_type": "code",
   "execution_count": 32,
   "metadata": {},
   "outputs": [
    {
     "name": "stdout",
     "output_type": "stream",
     "text": [
      "Stargazer is already installed.\n"
     ]
    }
   ],
   "source": [
    "# import libraries\n",
    "\n",
    "import pandas as pd\n",
    "import statsmodels.api as sm\n",
    "import statsmodels.formula.api as smf\n",
    "import matplotlib\n",
    "import matplotlib.pyplot as plt\n",
    "import numpy as np\n",
    "import scipy.stats as stats\n",
    "import seaborn as sns\n",
    "import requests\n",
    "from io import StringIO\n",
    "\n",
    "# I may not have stargazer; this will test whether I have and install if I haven't\n",
    "\n",
    "try:\n",
    "    import stargazer\n",
    "    print(\"Stargazer is already installed.\")\n",
    "except ImportError:\n",
    "    print(\"Stargazer is not installed. Installing now...\")\n",
    "    !pip install stargazer\n",
    "\n",
    "from stargazer.stargazer import Stargazer"
   ]
  },
  {
   "cell_type": "markdown",
   "metadata": {},
   "source": [
    "## 2. Load up the data set"
   ]
  },
  {
   "cell_type": "code",
   "execution_count": 33,
   "metadata": {},
   "outputs": [
    {
     "name": "stdout",
     "output_type": "stream",
     "text": [
      "Data successfully loaded.\n"
     ]
    }
   ],
   "source": [
    "# load directly from the Harvard Dataverse\n",
    "\n",
    "file_url = 'https://dataverse.harvard.edu/api/access/datafile/8162845'\n",
    "\n",
    "response = requests.get(file_url)\n",
    "response.raise_for_status()\n",
    "\n",
    "# I'll call the data frame 'cc'\n",
    "\n",
    "cc = pd.read_csv(StringIO(response.text), sep='\\t')\n",
    "\n",
    "# now check to see if the data have downloaded\n",
    "# and been passed to the data frame\n",
    "\n",
    "if cc.empty: \n",
    "    print(\"Data not loaded.\")\n",
    "else: \n",
    "    print(\"Data successfully loaded.\")"
   ]
  },
  {
   "cell_type": "markdown",
   "metadata": {},
   "source": [
    "## 3. \"Eyeball\" the data"
   ]
  },
  {
   "cell_type": "code",
   "execution_count": 34,
   "metadata": {},
   "outputs": [
    {
     "name": "stdout",
     "output_type": "stream",
     "text": [
      "Number of variables:    257\n",
      "Number of rows of data: 3222\n",
      "\n",
      "Variable names: \n"
     ]
    },
    {
     "data": {
      "text/plain": [
       "['fips',\n",
       " 'countyCode',\n",
       " 'FastFoodRestaurants',\n",
       " 'Pizza',\n",
       " 'AmericanRestaurants',\n",
       " 'MexicanRestaurants',\n",
       " 'ChineseRestaurants',\n",
       " 'CoffeeAmpersandEspressoRestaurants',\n",
       " 'CoffeeShops',\n",
       " 'BarAmpersandGrills',\n",
       " 'Delicatessens',\n",
       " 'ItalianRestaurants',\n",
       " 'BarbecueRestaurants',\n",
       " 'SandwichShops',\n",
       " 'FamilyStyleRestaurants',\n",
       " 'SeafoodRestaurants',\n",
       " 'ChickenRestaurants',\n",
       " 'Taverns',\n",
       " 'DonutShops',\n",
       " 'Bakeries',\n",
       " 'Bars',\n",
       " 'SushiBars',\n",
       " 'JapaneseRestaurants',\n",
       " 'SteakHouses',\n",
       " 'BrewPubs',\n",
       " 'TakeOutRestaurants',\n",
       " 'AsianRestaurants',\n",
       " 'HamburgersAmpersandHotDogs',\n",
       " 'ThaiRestaurants',\n",
       " 'BreakfastCommaBrunchAmpersandLunchRestaurants',\n",
       " 'LatinAmericanRestaurants',\n",
       " 'CoffeeAmpersandTea',\n",
       " 'CocktailLounges',\n",
       " 'IndianRestaurants',\n",
       " 'MediterraneanRestaurants',\n",
       " 'VietnameseRestaurants',\n",
       " 'Bagels',\n",
       " 'HealthFoodRestaurants',\n",
       " 'Juices',\n",
       " 'SportsBars',\n",
       " 'BuffetRestaurants',\n",
       " 'Cafeterias',\n",
       " 'GreekRestaurants',\n",
       " 'FrenchRestaurants',\n",
       " 'KoreanRestaurants',\n",
       " 'MiddleEasternRestaurants',\n",
       " 'CaribbeanRestaurants',\n",
       " 'Yogurt',\n",
       " 'ContinentalRestaurants',\n",
       " 'CreoleAmpersandCajunRestaurants',\n",
       " 'DessertRestaurants',\n",
       " 'HomeCookingRestaurants',\n",
       " 'SpanishRestaurants',\n",
       " 'SoulFoodRestaurants',\n",
       " 'HawaiianRestaurants',\n",
       " 'IrishRestaurants',\n",
       " 'Pretzels',\n",
       " 'CubanRestaurants',\n",
       " 'TeaRooms',\n",
       " 'Wine',\n",
       " 'FineDiningRestaurants',\n",
       " 'IceCreamAmpersandFrozenDesserts',\n",
       " 'BeerAmpersandAle',\n",
       " 'AfricanRestaurants',\n",
       " 'VegetarianRestaurants',\n",
       " 'GermanRestaurants',\n",
       " 'PeruvianRestaurants',\n",
       " 'FilipinoRestaurants',\n",
       " 'BrazilianRestaurants',\n",
       " 'TruckStops',\n",
       " 'MongolianRestaurants',\n",
       " 'Pies',\n",
       " 'Pasta',\n",
       " 'Tapas',\n",
       " 'HotDogStandsAmpersandRestaurants',\n",
       " 'FondueRestaurants',\n",
       " 'KosherRestaurants',\n",
       " 'RussianRestaurants',\n",
       " 'VeganRestaurants',\n",
       " 'DinnerTheaters',\n",
       " 'totalRestaurants',\n",
       " 'mostDominantFood',\n",
       " 'county',\n",
       " 'gore2000',\n",
       " 'obama2008',\n",
       " 'obama2012',\n",
       " 'trump2016',\n",
       " 'trump2020',\n",
       " 'bush2000',\n",
       " 'bush2004',\n",
       " 'clinton2016',\n",
       " 'jorgensen2020',\n",
       " 'kerry2004',\n",
       " 'mccain2008',\n",
       " 'biden2020',\n",
       " 'romney2012',\n",
       " 'nader2000',\n",
       " 'other2000',\n",
       " 'other2004',\n",
       " 'other2008',\n",
       " 'other2012',\n",
       " 'other2016',\n",
       " 'other2020',\n",
       " 'total2000',\n",
       " 'total2004',\n",
       " 'total2008',\n",
       " 'total2012',\n",
       " 'total2016',\n",
       " 'total2020',\n",
       " 'FastFoodRestaurantsPercent',\n",
       " 'PizzaPercent',\n",
       " 'AmericanRestaurantsPercent',\n",
       " 'MexicanRestaurantsPercent',\n",
       " 'ChineseRestaurantsPercent',\n",
       " 'CoffeeAmpersandEspressoRestaurantsPercent',\n",
       " 'CoffeeShopsPercent',\n",
       " 'BarAmpersandGrillsPercent',\n",
       " 'DelicatessensPercent',\n",
       " 'ItalianRestaurantsPercent',\n",
       " 'BarbecueRestaurantsPercent',\n",
       " 'SandwichShopsPercent',\n",
       " 'FamilyStyleRestaurantsPercent',\n",
       " 'SeafoodRestaurantsPercent',\n",
       " 'ChickenRestaurantsPercent',\n",
       " 'TavernsPercent',\n",
       " 'DonutShopsPercent',\n",
       " 'BakeriesPercent',\n",
       " 'BarsPercent',\n",
       " 'SushiBarsPercent',\n",
       " 'JapaneseRestaurantsPercent',\n",
       " 'SteakHousesPercent',\n",
       " 'BrewPubsPercent',\n",
       " 'TakeOutRestaurantsPercent',\n",
       " 'AsianRestaurantsPercent',\n",
       " 'HamburgersAmpersandHotDogsPercent',\n",
       " 'ThaiRestaurantsPercent',\n",
       " 'BreakfastCommaBrunchAmpersandLunchRestaurantsPercent',\n",
       " 'LatinAmericanRestaurantsPercent',\n",
       " 'CoffeeAmpersandTeaPercent',\n",
       " 'CocktailLoungesPercent',\n",
       " 'IndianRestaurantsPercent',\n",
       " 'MediterraneanRestaurantsPercent',\n",
       " 'VietnameseRestaurantsPercent',\n",
       " 'BagelsPercent',\n",
       " 'HealthFoodRestaurantsPercent',\n",
       " 'JuicesPercent',\n",
       " 'SportsBarsPercent',\n",
       " 'BuffetRestaurantsPercent',\n",
       " 'CafeteriasPercent',\n",
       " 'GreekRestaurantsPercent',\n",
       " 'FrenchRestaurantsPercent',\n",
       " 'KoreanRestaurantsPercent',\n",
       " 'MiddleEasternRestaurantsPercent',\n",
       " 'CaribbeanRestaurantsPercent',\n",
       " 'YogurtPercent',\n",
       " 'ContinentalRestaurantsPercent',\n",
       " 'CreoleAmpersandCajunRestaurantsPercent',\n",
       " 'DessertRestaurantsPercent',\n",
       " 'HomeCookingRestaurantsPercent',\n",
       " 'SpanishRestaurantsPercent',\n",
       " 'SoulFoodRestaurantsPercent',\n",
       " 'HawaiianRestaurantsPercent',\n",
       " 'IrishRestaurantsPercent',\n",
       " 'PretzelsPercent',\n",
       " 'CubanRestaurantsPercent',\n",
       " 'TeaRoomsPercent',\n",
       " 'WinePercent',\n",
       " 'FineDiningRestaurantsPercent',\n",
       " 'IceCreamAmpersandFrozenDessertsPercent',\n",
       " 'BeerAmpersandAlePercent',\n",
       " 'AfricanRestaurantsPercent',\n",
       " 'VegetarianRestaurantsPercent',\n",
       " 'GermanRestaurantsPercent',\n",
       " 'PeruvianRestaurantsPercent',\n",
       " 'FilipinoRestaurantsPercent',\n",
       " 'BrazilianRestaurantsPercent',\n",
       " 'TruckStopsPercent',\n",
       " 'MongolianRestaurantsPercent',\n",
       " 'PiesPercent',\n",
       " 'PastaPercent',\n",
       " 'TapasPercent',\n",
       " 'HotDogStandsAmpersandRestaurantsPercent',\n",
       " 'FondueRestaurantsPercent',\n",
       " 'KosherRestaurantsPercent',\n",
       " 'RussianRestaurantsPercent',\n",
       " 'VeganRestaurantsPercent',\n",
       " 'DinnerTheatersPercent',\n",
       " 'gore2000Share',\n",
       " 'obama2008Share',\n",
       " 'obama2012Share',\n",
       " 'trump2016Share',\n",
       " 'trump2020Share',\n",
       " 'bush2000Share',\n",
       " 'bush2004Share',\n",
       " 'clinton2016Share',\n",
       " 'jorgensen2020Share',\n",
       " 'kerry2004Share',\n",
       " 'mccain2008Share',\n",
       " 'biden2020Share',\n",
       " 'romney2012Share',\n",
       " 'nader2000Share',\n",
       " 'other2000Share',\n",
       " 'other2004Share',\n",
       " 'other2008Share',\n",
       " 'other2012Share',\n",
       " 'other2016Share',\n",
       " 'other2020Share',\n",
       " 'total2000Share',\n",
       " 'total2004Share',\n",
       " 'total2008Share',\n",
       " 'total2012Share',\n",
       " 'total2016Share',\n",
       " 'total2020Share',\n",
       " 'multi',\n",
       " 'multiPercent',\n",
       " 'oneZip',\n",
       " 'lat',\n",
       " 'lng',\n",
       " 'countyStateName',\n",
       " 'aged65AndOlder',\n",
       " 'airQualityAnnualPM2Point5Level',\n",
       " 'heartDiseaseDeathsAll2017To2019BlackBothGenders35Plus',\n",
       " 'heartDiseaseDeathsAll2017To2019BlackBothGendersAllAges',\n",
       " 'americanIndianAlaskaNativePercent',\n",
       " 'asianNativeHawaiianOtherPacificIslanderPercent',\n",
       " 'blackPercent',\n",
       " 'broadbandInternetPercent',\n",
       " 'cardio',\n",
       " 'ob_prev_adj',\n",
       " 'computerPercent',\n",
       " 'currentSmokerStatus',\n",
       " 'diabetesPercent',\n",
       " 'educationLessThanCollegePercent',\n",
       " 'educationLessThanHighSchoolPercent',\n",
       " 'foodStampOrSnapRecipientsPercent',\n",
       " 'heartAttackDeaths2017To2019AllRacesBothGenders35Plus',\n",
       " 'heartAttackDeaths2017To2019AllRacesBothGenders45To64',\n",
       " 'heartAttackDeaths2017To2019AllRacesBothGenders65Plus',\n",
       " 'heartAttackDeaths2017To2019AllRacesBothGendersUnder75',\n",
       " 'heartDiseasePrevalencePercent',\n",
       " 'highCholesterolAwareness',\n",
       " 'hispanicOrLatinoPercent',\n",
       " 'incomeInequality',\n",
       " 'ischemicStrokeDeaths2017To2019BothGendersAllRaces35Plus',\n",
       " 'ischemicStrokeDeaths2017To2019BothGendersBlack35Plus',\n",
       " 'medianHomeValueUSD',\n",
       " 'medianHouseholdIncome',\n",
       " 'obesityPercent',\n",
       " 'parkAccessPercent',\n",
       " 'physicalInactivityPercent',\n",
       " 'povertyPercent',\n",
       " 'severeHousingCostBurdenPercent',\n",
       " 'strokeHospitalizations2016To2018AllRacesBothGenders',\n",
       " 'totalPopulation',\n",
       " 'unemploymentRate',\n",
       " 'urbanRuralStatus',\n",
       " 'whitePercent']"
      ]
     },
     "execution_count": 34,
     "metadata": {},
     "output_type": "execute_result"
    }
   ],
   "source": [
    "print('Number of variables:   ', len(cc.columns))\n",
    "\n",
    "# show how many rows of data we have\n",
    "\n",
    "print('Number of rows of data:', len(cc))\n",
    "\n",
    "# See the variable names \n",
    "\n",
    "print('\\nVariable names: ') \n",
    "\n",
    "list(cc.columns)"
   ]
  },
  {
   "cell_type": "code",
   "execution_count": 35,
   "metadata": {},
   "outputs": [
    {
     "name": "stdout",
     "output_type": "stream",
     "text": [
      "count    3222.000000\n",
      "mean       11.332713\n",
      "std        29.330972\n",
      "min         0.000000\n",
      "25%         1.000000\n",
      "50%         4.000000\n",
      "75%        10.000000\n",
      "max       767.000000\n",
      "Name: ChineseRestaurants, dtype: float64\n"
     ]
    }
   ],
   "source": [
    "# show descriptive statistics of Chinese restaurants \n",
    "\n",
    "print(cc['ChineseRestaurants'].describe()) "
   ]
  },
  {
   "cell_type": "code",
   "execution_count": 36,
   "metadata": {},
   "outputs": [
    {
     "name": "stdout",
     "output_type": "stream",
     "text": [
      "trump2016Share: \n",
      "count    3114.000000\n",
      "mean        0.632379\n",
      "std         0.156961\n",
      "min         0.040875\n",
      "25%         0.544241\n",
      "50%         0.663261\n",
      "75%         0.749001\n",
      "max         0.960334\n",
      "Name: trump2016Share, dtype: float64\n",
      "\n",
      "\n",
      "trump2016PC: \n",
      "count    3114.000000\n",
      "mean       63.237937\n",
      "std        15.696068\n",
      "min         4.087474\n",
      "25%        54.424108\n",
      "50%        66.326097\n",
      "75%        74.900062\n",
      "max        96.033403\n",
      "Name: trump2016PC, dtype: float64\n"
     ]
    }
   ],
   "source": [
    "# show descriptive statistics of \n",
    "\n",
    "print('trump2016Share: ') \n",
    "print(cc['trump2016Share'].describe()) \n",
    "\n",
    "# make another new var, multiplied by 100\n",
    "\n",
    "cc['trump2016PC'] = cc['trump2016Share'] * 100\n",
    "\n",
    "# see the numbers again\n",
    "\n",
    "print('\\n\\ntrump2016PC: ') \n",
    "print(cc['trump2016PC'].describe())"
   ]
  },
  {
   "cell_type": "markdown",
   "metadata": {},
   "source": [
    "## 4. Develop a hypothesis\n",
    "- __H1__: The greater the proportion of Chinese restaurants in a US constituency, relative to all other restaurants or food-outlets, the lower the support for Trump in 2016 . "
   ]
  },
  {
   "cell_type": "markdown",
   "metadata": {},
   "source": [
    "## 5. The theoretical basis for that hypothesis, with literature\n",
    "In the United States, Chinese restaurants are mainly run by Chinese and are mostly located in urban areas with a large number of Chinese. These areas are often on the fringes of cities, where poverty and unemployment are widespread (Zhou & Lin, 2005)(Lee, 2019)(Yeh et al., 2008). Most of the operators of these Chinese restaurants are Chinese immigrants. Although some have become American citizens, they also have close ties with China and are treated as Chinese nationals in society (Zhou, 2022). For President Trump, Sino-U.S. trade has always been his biggest concern. During the campaign, he believed that China was the culprit of unemployment in the U.S. manufacturing industry and worsening trade imbalances (Lin & Wang, 2018), and he conducted political propaganda around these to win for himself(Chinn, 2016). vote. His China threat statements objectively deepened the prejudice and discrimination against Chinese in American society and social divisions(Le et al., 2020), and also affected the attitude of the Chinese community towards him (Samson, 2021).\n",
    "\n",
    "The theoretical expectation of this hypothesis is that Chinese restaurants in the United States are opened in areas with a large number of Chinese people, and most of the restaurant operators are Chinese. They are American citizens and have the right to vote. Trump’s negative remarks about China have hurt the Chinese in society, so their support rate for Trump is low. Therefore, in areas with more Chinese restaurants, Trump’s support rate in 2016 should be lower.\n",
    "\n",
    "### Sources cited  \n",
    "- Zhou, M., & Lin, M. (2005). Community Transformation and the Formation of Ethnic Capital: Immigrant Chinese Communities in the United States. Journal of Chinese Overseas, 1(2), 260–284.\n",
    "- Lee, R. (2019). Who does the dishes? Precarious employment and ethnic solidarity among restaurant workers in Los Angeles’ Chinese enclave. Ethnicities, 19(2), 433-451.\n",
    "- Yeh, C. J., Kim, A. B., Pituc, S. T., & Atkins, M. (2008, January). Poverty, loss, and resilience: The story of Chinese immigrant youth. Journal of Counseling Psychology, 55(1), 34–48.\n",
    "- Zhou, Y. (2022). Food, Ethnic Entrepreneurship and Acculturation: Exploring the trajectory of Chinese immigrants and Chinese restaurant business in North America.\n",
    "- Lin, J. Y., & Wang, X. (2018). Trump economics and China–US trade imbalances. Journal of Policy Modeling, 40(3), 579-600.\n",
    "- Chinn, S. (2016). Trump and Chinese Exclusion: Contemporary Parallels with Legislative Debates over the Chinese Exclusion Act of 1882. Tenn. L. Rev., 84, 681.\n",
    "- Le, D., Arora, M., & Stout, C. (2020). Are you threatening me? Asian‐American panethnicity in the Trump era. Social Science Quarterly, 101(6), 2183-2192.\n",
    "- Samson, F. L. (2021). The Political Dimensions of Anti-Asian American Sentiment: Evidence from the 2016 and 2020 American National Election Studies Panel. Available at SSRN 3878382."
   ]
  },
  {
   "cell_type": "markdown",
   "metadata": {},
   "source": [
    "## 6. Perform a statistical analysis\n",
    "\n",
    "### Correlation"
   ]
  },
  {
   "cell_type": "code",
   "execution_count": 37,
   "metadata": {},
   "outputs": [
    {
     "name": "stdout",
     "output_type": "stream",
     "text": [
      "Correlation between ChineseRestaurants and trump2016PC: \n",
      "-0.39298669378246043\n"
     ]
    }
   ],
   "source": [
    "# print the correlation\n",
    "\n",
    "print('Correlation between ChineseRestaurants and trump2016PC: ')\n",
    "print(cc['ChineseRestaurants'].corr(cc['trump2016PC']))"
   ]
  },
  {
   "cell_type": "markdown",
   "metadata": {},
   "source": [
    "### Scatterplot\n"
   ]
  },
  {
   "cell_type": "code",
   "execution_count": 38,
   "metadata": {},
   "outputs": [
    {
     "data": {
      "image/png": "[encoded data removed]",
      "text/plain": [
       "<Figure size 640x480 with 1 Axes>"
      ]
     },
     "metadata": {},
     "output_type": "display_data"
    }
   ],
   "source": [
    "# define our x and y axes\n",
    "\n",
    "x = cc['ChineseRestaurants']\n",
    "y = cc['trump2016PC']\n",
    "\n",
    "# remove any missing values from x and y\n",
    "\n",
    "mask = ~np.isnan(x) & ~np.isnan(y) & ~np.isinf(x) & ~np.isinf(y)\n",
    "x, y = x[mask], y[mask]\n",
    "\n",
    "# create the scatter plot\n",
    "\n",
    "plt.scatter(x, y)\n",
    "\n",
    "# put names on it\n",
    "\n",
    "plt.title('Scatter plot of percentage of Chinese restaurants vs percentage supporting trump in 2016')\n",
    "plt.xlabel('ChineseRestaurants')\n",
    "plt.ylabel('trump2016PC')\n",
    "\n",
    "# let's get all fancy and do a regression line\n",
    "# (or line of best fit) \n",
    "\n",
    "slope, intercept = np.polyfit(x, y, 1)\n",
    "line = slope * x + intercept\n",
    "\n",
    "# add the line to the plot \n",
    "\n",
    "plt.plot(x, line, color='red')\n",
    "\n",
    "# render the scatter plot\n",
    "\n",
    "plt.show()"
   ]
  },
  {
   "cell_type": "markdown",
   "metadata": {},
   "source": [
    "### Regression models"
   ]
  },
  {
   "cell_type": "code",
   "execution_count": 39,
   "metadata": {},
   "outputs": [
    {
     "name": "stdout",
     "output_type": "stream",
     "text": [
      "                            OLS Regression Results                            \n",
      "==============================================================================\n",
      "Dep. Variable:            trump2016PC   R-squared:                       0.154\n",
      "Model:                            OLS   Adj. R-squared:                  0.154\n",
      "Method:                 Least Squares   F-statistic:                     568.4\n",
      "Date:                Wed, 03 Apr 2024   Prob (F-statistic):          1.58e-115\n",
      "Time:                        11:47:57   Log-Likelihood:                -12731.\n",
      "No. Observations:                3114   AIC:                         2.547e+04\n",
      "Df Residuals:                    3112   BIC:                         2.548e+04\n",
      "Df Model:                           1                                         \n",
      "Covariance Type:            nonrobust                                         \n",
      "======================================================================================\n",
      "                         coef    std err          t      P>|t|      [0.025      0.975]\n",
      "--------------------------------------------------------------------------------------\n",
      "Intercept             65.6680      0.278    236.180      0.000      65.123      66.213\n",
      "ChineseRestaurants    -0.2073      0.009    -23.841      0.000      -0.224      -0.190\n",
      "==============================================================================\n",
      "Omnibus:                      289.605   Durbin-Watson:                   1.387\n",
      "Prob(Omnibus):                  0.000   Jarque-Bera (JB):              577.861\n",
      "Skew:                          -0.608   Prob(JB):                    3.30e-126\n",
      "Kurtosis:                       4.724   Cond. No.                         34.4\n",
      "==============================================================================\n",
      "\n",
      "Notes:\n",
      "[1] Standard Errors assume that the covariance matrix of the errors is correctly specified.\n",
      "                            OLS Regression Results                            \n",
      "==============================================================================\n",
      "Dep. Variable:            trump2016PC   R-squared:                       0.253\n",
      "Model:                            OLS   Adj. R-squared:                  0.252\n",
      "Method:                 Least Squares   F-statistic:                     210.6\n",
      "Date:                Wed, 03 Apr 2024   Prob (F-statistic):          6.88e-194\n",
      "Time:                        11:47:57   Log-Likelihood:                -12538.\n",
      "No. Observations:                3114   AIC:                         2.509e+04\n",
      "Df Residuals:                    3108   BIC:                         2.512e+04\n",
      "Df Model:                           5                                         \n",
      "Covariance Type:            nonrobust                                         \n",
      "======================================================================================\n",
      "                         coef    std err          t      P>|t|      [0.025      0.975]\n",
      "--------------------------------------------------------------------------------------\n",
      "Intercept             86.0698      3.596     23.938      0.000      79.020      93.120\n",
      "ChineseRestaurants    -0.1304      0.010    -13.274      0.000      -0.150      -0.111\n",
      "povertyPercent        -0.1008      0.060     -1.675      0.094      -0.219       0.017\n",
      "incomeInequality     -72.4003      8.188     -8.842      0.000     -88.455     -56.346\n",
      "unemploymentRate      -1.4018      0.205     -6.840      0.000      -1.804      -1.000\n",
      "urbanRuralStatus       5.1711      0.380     13.595      0.000       4.425       5.917\n",
      "==============================================================================\n",
      "Omnibus:                      173.047   Durbin-Watson:                   1.341\n",
      "Prob(Omnibus):                  0.000   Jarque-Bera (JB):              206.360\n",
      "Skew:                          -0.576   Prob(JB):                     1.55e-45\n",
      "Kurtosis:                       3.513   Cond. No.                     1.18e+03\n",
      "==============================================================================\n",
      "\n",
      "Notes:\n",
      "[1] Standard Errors assume that the covariance matrix of the errors is correctly specified.\n",
      "[2] The condition number is large, 1.18e+03. This might indicate that there are\n",
      "strong multicollinearity or other numerical problems.\n"
     ]
    }
   ],
   "source": [
    "# build models\n",
    "\n",
    "# create the base model\n",
    "\n",
    "model1 = smf.ols('trump2016PC ~ ChineseRestaurants ', data=cc).fit()\n",
    "\n",
    "# now a model with controls\n",
    "\n",
    "model2 = smf.ols('trump2016PC ~ ChineseRestaurants + povertyPercent + incomeInequality + unemploymentRate + urbanRuralStatus', data=cc).fit()\n",
    "\n",
    "# show the output of the models\n",
    "print(model1.summary())\n",
    "print(model2.summary())"
   ]
  },
  {
   "cell_type": "markdown",
   "metadata": {},
   "source": [
    "### Simplify this"
   ]
  },
  {
   "cell_type": "code",
   "execution_count": 40,
   "metadata": {},
   "outputs": [
    {
     "data": {
      "text/html": [
       "<table style=\"text-align:center\"><tr><td colspan=\"2\" style=\"border-bottom: 1px solid black\"></td></tr>\n",
       "<tr><td style=\"text-align:left\"></td><td colspan=\"1\"><em>Dependent variable: trump2016PC</em></td></tr><tr><td style=\"text-align:left\"></td><tr><td style=\"text-align:left\"></td><td>(1)</td></tr>\n",
       "<tr><td colspan=\"2\" style=\"border-bottom: 1px solid black\"></td></tr>\n",
       "\n",
       "<tr><td style=\"text-align:left\">ChineseRestaurants</td><td>-0.207<sup>***</sup></td></tr>\n",
       "<tr><td style=\"text-align:left\"></td><td>(0.009)</td></tr>\n",
       "<tr><td style=\"text-align:left\">Intercept</td><td>65.668<sup>***</sup></td></tr>\n",
       "<tr><td style=\"text-align:left\"></td><td>(0.278)</td></tr>\n",
       "\n",
       "<td colspan=\"2\" style=\"border-bottom: 1px solid black\"></td></tr>\n",
       "<tr><td style=\"text-align: left\">Observations</td><td>3114</td></tr><tr><td style=\"text-align: left\">R<sup>2</sup></td><td>0.154</td></tr><tr><td style=\"text-align: left\">Adjusted R<sup>2</sup></td><td>0.154</td></tr><tr><td style=\"text-align: left\">Residual Std. Error</td><td>14.436 (df=3112)</td></tr><tr><td style=\"text-align: left\">F Statistic</td><td>568.395<sup>***</sup> (df=1; 3112)</td></tr>\n",
       "<tr><td colspan=\"2\" style=\"border-bottom: 1px solid black\"></td></tr><tr><td style=\"text-align: left\">Note:</td><td colspan=\"1\" style=\"text-align: right\"><sup>*</sup>p&lt;0.1; <sup>**</sup>p&lt;0.05; <sup>***</sup>p&lt;0.01</td></tr></table>"
      ],
      "text/plain": [
       "<stargazer.stargazer.Stargazer at 0x17adef3d0>"
      ]
     },
     "execution_count": 40,
     "metadata": {},
     "output_type": "execute_result"
    }
   ],
   "source": [
    "star1 = Stargazer([model1])\n",
    "\n",
    "star1"
   ]
  },
  {
   "cell_type": "code",
   "execution_count": 41,
   "metadata": {},
   "outputs": [
    {
     "data": {
      "text/html": [
       "<table style=\"text-align:center\"><tr><td colspan=\"2\" style=\"border-bottom: 1px solid black\"></td></tr>\n",
       "<tr><td style=\"text-align:left\"></td><td colspan=\"1\"><em>Dependent variable: trump2016PC</em></td></tr><tr><td style=\"text-align:left\"></td><tr><td style=\"text-align:left\"></td><td>(1)</td></tr>\n",
       "<tr><td colspan=\"2\" style=\"border-bottom: 1px solid black\"></td></tr>\n",
       "\n",
       "<tr><td style=\"text-align:left\">ChineseRestaurants</td><td>-0.130<sup>***</sup></td></tr>\n",
       "<tr><td style=\"text-align:left\"></td><td>(0.010)</td></tr>\n",
       "<tr><td style=\"text-align:left\">Intercept</td><td>86.070<sup>***</sup></td></tr>\n",
       "<tr><td style=\"text-align:left\"></td><td>(3.596)</td></tr>\n",
       "<tr><td style=\"text-align:left\">incomeInequality</td><td>-72.400<sup>***</sup></td></tr>\n",
       "<tr><td style=\"text-align:left\"></td><td>(8.188)</td></tr>\n",
       "<tr><td style=\"text-align:left\">povertyPercent</td><td>-0.101<sup>*</sup></td></tr>\n",
       "<tr><td style=\"text-align:left\"></td><td>(0.060)</td></tr>\n",
       "<tr><td style=\"text-align:left\">unemploymentRate</td><td>-1.402<sup>***</sup></td></tr>\n",
       "<tr><td style=\"text-align:left\"></td><td>(0.205)</td></tr>\n",
       "<tr><td style=\"text-align:left\">urbanRuralStatus</td><td>5.171<sup>***</sup></td></tr>\n",
       "<tr><td style=\"text-align:left\"></td><td>(0.380)</td></tr>\n",
       "\n",
       "<td colspan=\"2\" style=\"border-bottom: 1px solid black\"></td></tr>\n",
       "<tr><td style=\"text-align: left\">Observations</td><td>3114</td></tr><tr><td style=\"text-align: left\">R<sup>2</sup></td><td>0.253</td></tr><tr><td style=\"text-align: left\">Adjusted R<sup>2</sup></td><td>0.252</td></tr><tr><td style=\"text-align: left\">Residual Std. Error</td><td>13.576 (df=3108)</td></tr><tr><td style=\"text-align: left\">F Statistic</td><td>210.618<sup>***</sup> (df=5; 3108)</td></tr>\n",
       "<tr><td colspan=\"2\" style=\"border-bottom: 1px solid black\"></td></tr><tr><td style=\"text-align: left\">Note:</td><td colspan=\"1\" style=\"text-align: right\"><sup>*</sup>p&lt;0.1; <sup>**</sup>p&lt;0.05; <sup>***</sup>p&lt;0.01</td></tr></table>"
      ],
      "text/plain": [
       "<stargazer.stargazer.Stargazer at 0x17ae65a50>"
      ]
     },
     "execution_count": 41,
     "metadata": {},
     "output_type": "execute_result"
    }
   ],
   "source": [
    "# and here's the second model in a second block\n",
    "# because stargazer is riddled with errors.\n",
    "\n",
    "star2 = Stargazer([model2])\n",
    "\n",
    "star2"
   ]
  },
  {
   "cell_type": "markdown",
   "metadata": {},
   "source": [
    "## 7. Determine whether in favour of the hypothesis, or against the hypothesis. \n",
    "\n",
    "In this case, I find __in favour of the hypothesis__. Here's why: \n",
    "\n",
    " - There is a negative correlation (-0.39) between Chinese restaurants and trump share in 2016.\n",
    " - There is a strong, negative relationship (p < 0.01) between Chinese restaurants and 2016 trump share. In a bivariate regression model, over 15 percent of the trump variance (R^2 = 0.154) is explained by Chinese restaurants alone. \n",
    " - In the base model, every time we increase one Chinese restaurant, we decrease the trump 2016 share by 0.207 percent.\n",
    "- When we introduce other key control variables which have been identified in the literature as key determinants of Trump share in 2016, Chinese restaurants remain strongly significant. "
   ]
  },
  {
   "cell_type": "markdown",
   "metadata": {},
   "source": [
    "## 8. Answer the **interpretation question**"
   ]
  },
  {
   "cell_type": "markdown",
   "metadata": {},
   "source": [
    "- The R-squared value indicates the proportion of variance in the dependent variable that is explained by the independent variables in the model. A higher R-squared value (closer to 1) suggests that the independent variables in the model are better at explaining the variation in the dependent variable. On the contrary, a lower R-squared value suggests that the model may not fit the data well. \n",
    "- Coefficients represent the estimated effects of the independent variables on the dependent variable. Larger coefficients suggest a stronger influence of the independent variable on the dependent variable. The sign of the coefficient indicates whether there is a positive or negative correlation between variables, with a positive sign indicating a positive correlation and a negative sign indicating a negative correlation.\n",
    "- Standard errors measure the precision of the coefficient estimates. Smaller standard errors indicate greater precision, meaning that the coefficient estimate is likely to be closer to the true population value."
   ]
  }
 ],
 "metadata": {
  "kernelspec": {
   "display_name": "Python 3 (ipykernel)",
   "language": "python",
   "name": "python3"
  },
  "language_info": {
   "codemirror_mode": {
    "name": "ipython",
    "version": 3
   },
   "file_extension": ".py",
   "mimetype": "text/x-python",
   "name": "python",
   "nbconvert_exporter": "python",
   "pygments_lexer": "ipython3",
   "version": "3.11.5"
  }
 },
 "nbformat": 4,
 "nbformat_minor": 4
}
