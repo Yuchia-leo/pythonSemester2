{
 "cells": [
  {
   "cell_type": "markdown",
   "id": "73fdd401",
   "metadata": {},
   "source": [
    "***\n",
    "\n",
    "## Individual Challenge 3: T-test and chi square-test\n",
    "\n",
    "This Notebook starts with an example of a t-test and a Chi square-test. Then the actual indivual challenge begins where you can apply these tests yourself.\n",
    "\n",
    "There are three Interpretation questions in the Notebook on which you need to focus. \n",
    "\n",
    "***"
   ]
  },
  {
   "cell_type": "markdown",
   "id": "866b9df7",
   "metadata": {},
   "source": [
    "### Example t-test"
   ]
  },
  {
   "cell_type": "markdown",
   "id": "233f481c",
   "metadata": {},
   "source": [
    "The given data set is derived from a study called “Framing and Behavior Change” by Nurit Nobel (2020). Participants on this research are smokers who followed through a program to quit smoking. They joined the program with a mobile application. On the application, the researcher purposefully modified the framing of a welcome message that portrayed a particular effect of smoking. Participants were randomly assigned into one of these five groups: *benchmark*, *money-gain (MG)*, *money-loss (ML)*, *time-gain (TG)*, and *time-loss (TL)*. "
   ]
  },
  {
   "cell_type": "code",
   "execution_count": 65,
   "id": "85e1d20a",
   "metadata": {},
   "outputs": [
    {
     "data": {
      "text/html": [
       "<div>\n",
       "<style scoped>\n",
       "    .dataframe tbody tr th:only-of-type {\n",
       "        vertical-align: middle;\n",
       "    }\n",
       "\n",
       "    .dataframe tbody tr th {\n",
       "        vertical-align: top;\n",
       "    }\n",
       "\n",
       "    .dataframe thead th {\n",
       "        text-align: right;\n",
       "    }\n",
       "</style>\n",
       "<table border=\"1\" class=\"dataframe\">\n",
       "  <thead>\n",
       "    <tr style=\"text-align: right;\">\n",
       "      <th></th>\n",
       "      <th>user_id</th>\n",
       "      <th>habit_program_id</th>\n",
       "      <th>registered_date</th>\n",
       "      <th>probably_fake</th>\n",
       "      <th>gender</th>\n",
       "      <th>age</th>\n",
       "      <th>has_quit</th>\n",
       "      <th>has_reduced_habit</th>\n",
       "      <th>number_of_daily_cigarettes_before</th>\n",
       "      <th>number_of_daily_cigarettes_after</th>\n",
       "      <th>quit_from_before</th>\n",
       "      <th>exp_group</th>\n",
       "      <th>group</th>\n",
       "    </tr>\n",
       "  </thead>\n",
       "  <tbody>\n",
       "    <tr>\n",
       "      <th>0</th>\n",
       "      <td>390977248</td>\n",
       "      <td>390977502</td>\n",
       "      <td>08/05/20</td>\n",
       "      <td>False</td>\n",
       "      <td>FEMALE</td>\n",
       "      <td>35.00.00</td>\n",
       "      <td>True</td>\n",
       "      <td>NaN</td>\n",
       "      <td>18.0</td>\n",
       "      <td>0.0</td>\n",
       "      <td>True</td>\n",
       "      <td>baseline</td>\n",
       "      <td>Benchmark</td>\n",
       "    </tr>\n",
       "    <tr>\n",
       "      <th>1</th>\n",
       "      <td>391695433</td>\n",
       "      <td>391695687</td>\n",
       "      <td>10/05/20</td>\n",
       "      <td>False</td>\n",
       "      <td>FEMALE</td>\n",
       "      <td>33.00.00</td>\n",
       "      <td>False</td>\n",
       "      <td>False</td>\n",
       "      <td>10.0</td>\n",
       "      <td>NaN</td>\n",
       "      <td>False</td>\n",
       "      <td>baseline</td>\n",
       "      <td>Benchmark</td>\n",
       "    </tr>\n",
       "    <tr>\n",
       "      <th>2</th>\n",
       "      <td>392220070</td>\n",
       "      <td>392220324</td>\n",
       "      <td>11/05/20</td>\n",
       "      <td>False</td>\n",
       "      <td>FEMALE</td>\n",
       "      <td>24.00.00</td>\n",
       "      <td>True</td>\n",
       "      <td>True</td>\n",
       "      <td>12.0</td>\n",
       "      <td>0.0</td>\n",
       "      <td>False</td>\n",
       "      <td>baseline</td>\n",
       "      <td>Benchmark</td>\n",
       "    </tr>\n",
       "    <tr>\n",
       "      <th>3</th>\n",
       "      <td>392887074</td>\n",
       "      <td>392887328</td>\n",
       "      <td>11/05/20</td>\n",
       "      <td>False</td>\n",
       "      <td>FEMALE</td>\n",
       "      <td>19.00</td>\n",
       "      <td>True</td>\n",
       "      <td>NaN</td>\n",
       "      <td>4.0</td>\n",
       "      <td>NaN</td>\n",
       "      <td>False</td>\n",
       "      <td>TL</td>\n",
       "      <td>Nudge</td>\n",
       "    </tr>\n",
       "    <tr>\n",
       "      <th>4</th>\n",
       "      <td>393173586</td>\n",
       "      <td>393173840</td>\n",
       "      <td>12/05/20</td>\n",
       "      <td>False</td>\n",
       "      <td>FEMALE</td>\n",
       "      <td>30.00.00</td>\n",
       "      <td>False</td>\n",
       "      <td>False</td>\n",
       "      <td>20.0</td>\n",
       "      <td>NaN</td>\n",
       "      <td>False</td>\n",
       "      <td>baseline</td>\n",
       "      <td>Benchmark</td>\n",
       "    </tr>\n",
       "  </tbody>\n",
       "</table>\n",
       "</div>"
      ],
      "text/plain": [
       "     user_id  habit_program_id registered_date  probably_fake  gender  \\\n",
       "0  390977248         390977502        08/05/20          False  FEMALE   \n",
       "1  391695433         391695687        10/05/20          False  FEMALE   \n",
       "2  392220070         392220324        11/05/20          False  FEMALE   \n",
       "3  392887074         392887328        11/05/20          False  FEMALE   \n",
       "4  393173586         393173840        12/05/20          False  FEMALE   \n",
       "\n",
       "        age  has_quit has_reduced_habit  number_of_daily_cigarettes_before  \\\n",
       "0  35.00.00      True               NaN                               18.0   \n",
       "1  33.00.00     False             False                               10.0   \n",
       "2  24.00.00      True              True                               12.0   \n",
       "3     19.00      True               NaN                                4.0   \n",
       "4  30.00.00     False             False                               20.0   \n",
       "\n",
       "   number_of_daily_cigarettes_after  quit_from_before exp_group      group  \n",
       "0                               0.0              True  baseline  Benchmark  \n",
       "1                               NaN             False  baseline  Benchmark  \n",
       "2                               0.0             False  baseline  Benchmark  \n",
       "3                               NaN             False        TL      Nudge  \n",
       "4                               NaN             False  baseline  Benchmark  "
      ]
     },
     "execution_count": 65,
     "metadata": {},
     "output_type": "execute_result"
    }
   ],
   "source": [
    "# Importing the data\n",
    "import pandas as pd\n",
    "df = pd.read_csv('sample_cssci.csv', delimiter=';') # Add file path if needed\n",
    "df.head(5)"
   ]
  },
  {
   "cell_type": "code",
   "execution_count": 66,
   "id": "05573a18",
   "metadata": {},
   "outputs": [
    {
     "data": {
      "text/html": [
       "<div>\n",
       "<style scoped>\n",
       "    .dataframe tbody tr th:only-of-type {\n",
       "        vertical-align: middle;\n",
       "    }\n",
       "\n",
       "    .dataframe tbody tr th {\n",
       "        vertical-align: top;\n",
       "    }\n",
       "\n",
       "    .dataframe thead th {\n",
       "        text-align: right;\n",
       "    }\n",
       "</style>\n",
       "<table border=\"1\" class=\"dataframe\">\n",
       "  <thead>\n",
       "    <tr style=\"text-align: right;\">\n",
       "      <th></th>\n",
       "      <th>number_of_daily_cigarettes_after</th>\n",
       "      <th>exp_group</th>\n",
       "    </tr>\n",
       "  </thead>\n",
       "  <tbody>\n",
       "    <tr>\n",
       "      <th>50</th>\n",
       "      <td>5.0</td>\n",
       "      <td>MG</td>\n",
       "    </tr>\n",
       "    <tr>\n",
       "      <th>150</th>\n",
       "      <td>NaN</td>\n",
       "      <td>MG</td>\n",
       "    </tr>\n",
       "    <tr>\n",
       "      <th>165</th>\n",
       "      <td>0.0</td>\n",
       "      <td>MG</td>\n",
       "    </tr>\n",
       "    <tr>\n",
       "      <th>220</th>\n",
       "      <td>0.0</td>\n",
       "      <td>MG</td>\n",
       "    </tr>\n",
       "    <tr>\n",
       "      <th>320</th>\n",
       "      <td>NaN</td>\n",
       "      <td>TG</td>\n",
       "    </tr>\n",
       "  </tbody>\n",
       "</table>\n",
       "</div>"
      ],
      "text/plain": [
       "     number_of_daily_cigarettes_after exp_group\n",
       "50                                5.0        MG\n",
       "150                               NaN        MG\n",
       "165                               0.0        MG\n",
       "220                               0.0        MG\n",
       "320                               NaN        TG"
      ]
     },
     "execution_count": 66,
     "metadata": {},
     "output_type": "execute_result"
    }
   ],
   "source": [
    "# Subsetting the dataset\n",
    "df2 = df.loc[df['exp_group'].isin(['TG', 'MG']), ['number_of_daily_cigarettes_after', 'exp_group']]\n",
    "df2.head()"
   ]
  },
  {
   "cell_type": "code",
   "execution_count": 67,
   "id": "a666770d",
   "metadata": {},
   "outputs": [],
   "source": [
    "# Run an independent sample T-test\n",
    "import scipy.stats as stats # statistical tests\n",
    "t_statistic, p_value = stats.ttest_ind(a = df2.loc[df2['exp_group'] == 'TG', 'number_of_daily_cigarettes_after'], # vector of values for TG\n",
    "                                      b = df2.loc[df2['exp_group'] == 'MG', 'number_of_daily_cigarettes_after'], # vector of values for MG\n",
    "                                      alternative = 'two-sided',\n",
    "                                      nan_policy = 'omit')\n",
    "\n",
    "# group 1 data\n",
    "# group 2 data\n",
    "# equal_var - if True (default), perform a standard independent 2 sample test that assumes equal population variances\n",
    "\n",
    "# alternative - defines the alternative hypothesis. The following options are available (default is ‘two-sided’).\n",
    "#   - ‘two-sided’: the mean of the underlying distribution of the sample is different than the given population mean (popmean)\n",
    "#   - ‘less’: the mean of the underlying distribution of the sample is less than the given population mean (popmean)\n",
    "#   - ‘greater’: the mean of the underlying distribution of the sample is greater than the given population mean (popmean)\n",
    "\n",
    "# nan_policy - defines how to handle when input contains nan. The following options are available (default is ‘propagate’)\n",
    "#   - ‘propagate’: returns nan\n",
    "#   - raise’: throws an error\n",
    "#   - 'omit’: performs the calculations ignoring nan values"
   ]
  },
  {
   "cell_type": "code",
   "execution_count": 68,
   "id": "824a4b6d",
   "metadata": {},
   "outputs": [
    {
     "name": "stdout",
     "output_type": "stream",
     "text": [
      "t-statistic: 0.9671529447445474\n",
      "p-value: 0.33375877282002\n"
     ]
    }
   ],
   "source": [
    "# Printing out the results\n",
    "print(f't-statistic: {t_statistic}')\n",
    "print(f'p-value: {p_value}')"
   ]
  },
  {
   "cell_type": "code",
   "execution_count": 69,
   "id": "b20592cb",
   "metadata": {},
   "outputs": [
    {
     "name": "stdout",
     "output_type": "stream",
     "text": [
      "p-value of 0.334 is higher than alpha value of 0.05. \n",
      "The null hypothesis should be retained. \n",
      "The mean values in two groups are not stastically significantly different.\n"
     ]
    }
   ],
   "source": [
    "# Conclusions\n",
    "\n",
    "alpha = 0.05\n",
    "\n",
    "if p_value < alpha:\n",
    "  print(f'p-value of {round(p_value,3)} is lower than the alpha value of {alpha}. \\nThe alternative hypothesis should be accepted. \\\n",
    "\\nThe mean values in two groups are stastically significantly different.')\n",
    "  \n",
    "else:\n",
    "    print(f'p-value of {round(p_value,3)} is higher than alpha value of {alpha}. \\nThe null hypothesis should be retained. \\\n",
    "\\nThe mean values in two groups are not stastically significantly different.')\n",
    "    "
   ]
  },
  {
   "cell_type": "markdown",
   "id": "a5b9d4c9",
   "metadata": {},
   "source": [
    "### Example Chi square-test"
   ]
  },
  {
   "cell_type": "markdown",
   "id": "0962f6ec",
   "metadata": {},
   "source": [
    "Imagine that you are running an experiment where you are interested in the relationship between the \"tone\" of a message and whether people subscribe to a news letter. \n",
    "\n",
    "Independent variable (IV): tone of the message \n",
    "- Convincing\n",
    "- Neutral \n",
    "\n",
    "Dependent variable (DV): whether people subscribed to the newsletter\n",
    "- Subscribed\n",
    "- Not subscribed\n",
    "\n",
    "Your research question:\n",
    "\n",
    "Is the **tone of message on your website** related to the __subscription rate__?\n",
    "\n",
    "H0: The tone of message is __not related__ to the subscription rate\n",
    "\n",
    "Ha: The tone of message is __related__ to the subscription rate"
   ]
  },
  {
   "cell_type": "code",
   "execution_count": 70,
   "id": "f791d659",
   "metadata": {},
   "outputs": [
    {
     "data": {
      "text/html": [
       "<div>\n",
       "<style scoped>\n",
       "    .dataframe tbody tr th:only-of-type {\n",
       "        vertical-align: middle;\n",
       "    }\n",
       "\n",
       "    .dataframe tbody tr th {\n",
       "        vertical-align: top;\n",
       "    }\n",
       "\n",
       "    .dataframe thead th {\n",
       "        text-align: right;\n",
       "    }\n",
       "</style>\n",
       "<table border=\"1\" class=\"dataframe\">\n",
       "  <thead>\n",
       "    <tr style=\"text-align: right;\">\n",
       "      <th></th>\n",
       "      <th>message</th>\n",
       "      <th>subscription</th>\n",
       "    </tr>\n",
       "  </thead>\n",
       "  <tbody>\n",
       "    <tr>\n",
       "      <th>0</th>\n",
       "      <td>neutral</td>\n",
       "      <td>not_subscribed</td>\n",
       "    </tr>\n",
       "    <tr>\n",
       "      <th>1</th>\n",
       "      <td>neutral</td>\n",
       "      <td>not_subscribed</td>\n",
       "    </tr>\n",
       "    <tr>\n",
       "      <th>2</th>\n",
       "      <td>neutral</td>\n",
       "      <td>not_subscribed</td>\n",
       "    </tr>\n",
       "    <tr>\n",
       "      <th>3</th>\n",
       "      <td>convincing</td>\n",
       "      <td>not_subscribed</td>\n",
       "    </tr>\n",
       "    <tr>\n",
       "      <th>4</th>\n",
       "      <td>neutral</td>\n",
       "      <td>not_subscribed</td>\n",
       "    </tr>\n",
       "  </tbody>\n",
       "</table>\n",
       "</div>"
      ],
      "text/plain": [
       "      message    subscription\n",
       "0     neutral  not_subscribed\n",
       "1     neutral  not_subscribed\n",
       "2     neutral  not_subscribed\n",
       "3  convincing  not_subscribed\n",
       "4     neutral  not_subscribed"
      ]
     },
     "execution_count": 70,
     "metadata": {},
     "output_type": "execute_result"
    }
   ],
   "source": [
    "# Creating values\n",
    "\n",
    "# Generate values form the Bernoulli discrete random variable distribution (0 or 1)\n",
    "\n",
    "# size - number of rounds (sample size)\n",
    "# p - probability of success\n",
    "# n - number of trials within a round\n",
    "\n",
    "import numpy as np\n",
    "\n",
    "np.random.seed(11)\n",
    "\n",
    "message = np.random.binomial(size=1000, n=1, p=0.55) # 0 - convincing, 1 - neutral\n",
    "subscription = np.random.binomial(size=1000, n=1, p=0.1) # 1 - subscribed, 0 - not subscribed\n",
    "\n",
    "# Putting together the dataset\n",
    "\n",
    "df = pd.DataFrame({'message' : message,\n",
    "                   'subscription' : subscription})\n",
    "\n",
    "# Changing numeric values to categories for clarity\n",
    "df['subscription'].replace([0, 1], ['not_subscribed', 'subscribed'], inplace=True) # [old_values], [new_values]\n",
    "df['message'].replace([0, 1], ['convincing', 'neutral'], inplace=True)\n",
    "df.head(5)"
   ]
  },
  {
   "cell_type": "code",
   "execution_count": 71,
   "id": "194b897e",
   "metadata": {},
   "outputs": [
    {
     "data": {
      "text/html": [
       "<div>\n",
       "<style scoped>\n",
       "    .dataframe tbody tr th:only-of-type {\n",
       "        vertical-align: middle;\n",
       "    }\n",
       "\n",
       "    .dataframe tbody tr th {\n",
       "        vertical-align: top;\n",
       "    }\n",
       "\n",
       "    .dataframe thead th {\n",
       "        text-align: right;\n",
       "    }\n",
       "</style>\n",
       "<table border=\"1\" class=\"dataframe\">\n",
       "  <thead>\n",
       "    <tr style=\"text-align: right;\">\n",
       "      <th>subscription</th>\n",
       "      <th>not_subscribed</th>\n",
       "      <th>subscribed</th>\n",
       "      <th>All</th>\n",
       "    </tr>\n",
       "    <tr>\n",
       "      <th>message</th>\n",
       "      <th></th>\n",
       "      <th></th>\n",
       "      <th></th>\n",
       "    </tr>\n",
       "  </thead>\n",
       "  <tbody>\n",
       "    <tr>\n",
       "      <th>convincing</th>\n",
       "      <td>397</td>\n",
       "      <td>54</td>\n",
       "      <td>451</td>\n",
       "    </tr>\n",
       "    <tr>\n",
       "      <th>neutral</th>\n",
       "      <td>506</td>\n",
       "      <td>43</td>\n",
       "      <td>549</td>\n",
       "    </tr>\n",
       "    <tr>\n",
       "      <th>All</th>\n",
       "      <td>903</td>\n",
       "      <td>97</td>\n",
       "      <td>1000</td>\n",
       "    </tr>\n",
       "  </tbody>\n",
       "</table>\n",
       "</div>"
      ],
      "text/plain": [
       "subscription  not_subscribed  subscribed   All\n",
       "message                                       \n",
       "convincing               397          54   451\n",
       "neutral                  506          43   549\n",
       "All                      903          97  1000"
      ]
     },
     "execution_count": 71,
     "metadata": {},
     "output_type": "execute_result"
    }
   ],
   "source": [
    "# Running a crosstab\n",
    "crosstab = pd.crosstab(df['message'], df['subscription'], margins=True)\n",
    "crosstab"
   ]
  },
  {
   "cell_type": "code",
   "execution_count": 72,
   "id": "95d68f7f",
   "metadata": {},
   "outputs": [
    {
     "data": {
      "text/html": [
       "<div>\n",
       "<style scoped>\n",
       "    .dataframe tbody tr th:only-of-type {\n",
       "        vertical-align: middle;\n",
       "    }\n",
       "\n",
       "    .dataframe tbody tr th {\n",
       "        vertical-align: top;\n",
       "    }\n",
       "\n",
       "    .dataframe thead th {\n",
       "        text-align: right;\n",
       "    }\n",
       "</style>\n",
       "<table border=\"1\" class=\"dataframe\">\n",
       "  <thead>\n",
       "    <tr style=\"text-align: right;\">\n",
       "      <th>subscription</th>\n",
       "      <th>not_subscribed</th>\n",
       "      <th>subscribed</th>\n",
       "    </tr>\n",
       "    <tr>\n",
       "      <th>message</th>\n",
       "      <th></th>\n",
       "      <th></th>\n",
       "    </tr>\n",
       "  </thead>\n",
       "  <tbody>\n",
       "    <tr>\n",
       "      <th>convincing</th>\n",
       "      <td>88.0</td>\n",
       "      <td>12.0</td>\n",
       "    </tr>\n",
       "    <tr>\n",
       "      <th>neutral</th>\n",
       "      <td>92.0</td>\n",
       "      <td>8.0</td>\n",
       "    </tr>\n",
       "  </tbody>\n",
       "</table>\n",
       "</div>"
      ],
      "text/plain": [
       "subscription  not_subscribed  subscribed\n",
       "message                                 \n",
       "convincing              88.0        12.0\n",
       "neutral                 92.0         8.0"
      ]
     },
     "execution_count": 72,
     "metadata": {},
     "output_type": "execute_result"
    }
   ],
   "source": [
    "# Running a normalized crosstab\n",
    "# There seems to be a difference in the number of subscriptions per convincing and neutral messages\n",
    "# To see it clearer, the frequencies are turned into proportions by using 'normalize' parameter\n",
    "\n",
    "crosstab_prop = round(pd.crosstab(df['message'], df['subscription'], normalize='index'),2) * 100\n",
    "crosstab_prop\n",
    "\n",
    "# normalize - default False\n",
    "#   - If passed ‘all’ or True, will normalize over all values.\n",
    "#   - If passed ‘index’ will normalize over each row.\n",
    "#   - If passed ‘columns’ will normalize over each column."
   ]
  },
  {
   "cell_type": "code",
   "execution_count": 73,
   "id": "76ba70c2",
   "metadata": {},
   "outputs": [
    {
     "name": "stdout",
     "output_type": "stream",
     "text": [
      "The Chi-squared statistic value: 4.8472290674906136\n",
      "The p-value: 0.30333494360532326\n",
      "Number of degrees of freedom: 4\n"
     ]
    }
   ],
   "source": [
    "# Running Chi-squared test\n",
    "\n",
    "# Unpacking the results of the Chi-squared test into:\n",
    "\n",
    "# cs_statistic - Chi-squared value for the crosstab\n",
    "# p_value - p-value\n",
    "# dof - Degrees of freedom\n",
    "# expected - Expected values under null hypothesis\n",
    "\n",
    "# Important: Note that the input for chi2_contingency() should be a raw crosstab,\n",
    "# not the one with proportions!!!\n",
    "\n",
    "# That's why we're using the object called 'crosstab' created in 2.2,\n",
    "# not 'crosstab_prop' created in 2.4.\n",
    "\n",
    "cs_statistic, p_value, dof, expected = stats.chi2_contingency(crosstab)\n",
    "\n",
    "print(f'The Chi-squared statistic value: {cs_statistic}')\n",
    "print(f'The p-value: {p_value}')\n",
    "print(f'Number of degrees of freedom: {dof}')"
   ]
  },
  {
   "cell_type": "code",
   "execution_count": 74,
   "id": "ab920d71",
   "metadata": {},
   "outputs": [
    {
     "name": "stdout",
     "output_type": "stream",
     "text": [
      "Expected values: [[ 407.253   43.747  451.   ]\n",
      " [ 495.747   53.253  549.   ]\n",
      " [ 903.      97.    1000.   ]]\n"
     ]
    }
   ],
   "source": [
    "# Expected values represent the (theoretical) distribution under the null hypothesis -\n",
    "# that is in case there is no relationship between the type of message and subscription behavior\n",
    "\n",
    "# The expected values are calculated with the formula: (Row Total * Column Total)/N\n",
    "\n",
    "print(f'Expected values: {expected}')"
   ]
  },
  {
   "cell_type": "code",
   "execution_count": 75,
   "id": "83a76db4",
   "metadata": {},
   "outputs": [
    {
     "data": {
      "text/html": [
       "<div>\n",
       "<style scoped>\n",
       "    .dataframe tbody tr th:only-of-type {\n",
       "        vertical-align: middle;\n",
       "    }\n",
       "\n",
       "    .dataframe tbody tr th {\n",
       "        vertical-align: top;\n",
       "    }\n",
       "\n",
       "    .dataframe thead th {\n",
       "        text-align: right;\n",
       "    }\n",
       "</style>\n",
       "<table border=\"1\" class=\"dataframe\">\n",
       "  <thead>\n",
       "    <tr style=\"text-align: right;\">\n",
       "      <th></th>\n",
       "      <th>0</th>\n",
       "      <th>1</th>\n",
       "      <th>All</th>\n",
       "    </tr>\n",
       "  </thead>\n",
       "  <tbody>\n",
       "    <tr>\n",
       "      <th>0</th>\n",
       "      <td>407.253</td>\n",
       "      <td>43.747</td>\n",
       "      <td>451.0</td>\n",
       "    </tr>\n",
       "    <tr>\n",
       "      <th>1</th>\n",
       "      <td>495.747</td>\n",
       "      <td>53.253</td>\n",
       "      <td>549.0</td>\n",
       "    </tr>\n",
       "    <tr>\n",
       "      <th>2</th>\n",
       "      <td>903.000</td>\n",
       "      <td>97.000</td>\n",
       "      <td>1000.0</td>\n",
       "    </tr>\n",
       "  </tbody>\n",
       "</table>\n",
       "</div>"
      ],
      "text/plain": [
       "         0       1     All\n",
       "0  407.253  43.747   451.0\n",
       "1  495.747  53.253   549.0\n",
       "2  903.000  97.000  1000.0"
      ]
     },
     "execution_count": 75,
     "metadata": {},
     "output_type": "execute_result"
    }
   ],
   "source": [
    "# Turn the array \"expected\" (created above) into a dataframe to improve readability\n",
    "# Each list in this array is essentially a row in the dataframe below. We manually name the columns\n",
    "df1 = pd.DataFrame({'0': expected[:, 0], '1': expected[:, 1], 'All': expected[:, 2]})\n",
    "df1"
   ]
  },
  {
   "cell_type": "code",
   "execution_count": 76,
   "id": "805429c4",
   "metadata": {},
   "outputs": [
    {
     "name": "stdout",
     "output_type": "stream",
     "text": [
      "p-value of 0.303 is higher than alpha value of 0.05. \n",
      "The null hypothesis should be retained. \n",
      "The tone of message is not related to the subscription rate.\n"
     ]
    }
   ],
   "source": [
    "# Interpreting the p-value and drawing the conclusions\n",
    "\n",
    "alpha = 0.05 # setting the alpha value of 5%\n",
    "\n",
    "if p_value < alpha:\n",
    "  print(f'p-value of {round(p_value,3)} is lower than the alpha value of {alpha}. \\nThe alternative hypothesis should be accepted. \\\n",
    "\\nThe tone of message is related to the subscription rate.')\n",
    "  \n",
    "else:\n",
    "    print(f'p-value of {round(p_value,3)} is higher than alpha value of {alpha}. \\nThe null hypothesis should be retained. \\\n",
    "\\nThe tone of message is not related to the subscription rate.')\n"
   ]
  },
  {
   "cell_type": "markdown",
   "id": "353ac023",
   "metadata": {},
   "source": [
    "## The Individual Challenge"
   ]
  },
  {
   "cell_type": "markdown",
   "id": "6f12cbc6",
   "metadata": {},
   "source": [
    "*** \n",
    "\n",
    "### Are older films better than recent ones? \n",
    "\n",
    "This question can be addressed with a t-test.\n",
    "\n",
    "For reasons why older films may be better, see: https://www.quora.com/Why-are-old-movies-way-better-than-new-ones\n",
    "\n",
    "***"
   ]
  },
  {
   "cell_type": "code",
   "execution_count": 77,
   "id": "5665df74",
   "metadata": {},
   "outputs": [
    {
     "name": "stdout",
     "output_type": "stream",
     "text": [
      "(42500, 6)\n"
     ]
    },
    {
     "data": {
      "text/html": [
       "<div>\n",
       "<style scoped>\n",
       "    .dataframe tbody tr th:only-of-type {\n",
       "        vertical-align: middle;\n",
       "    }\n",
       "\n",
       "    .dataframe tbody tr th {\n",
       "        vertical-align: top;\n",
       "    }\n",
       "\n",
       "    .dataframe thead th {\n",
       "        text-align: right;\n",
       "    }\n",
       "</style>\n",
       "<table border=\"1\" class=\"dataframe\">\n",
       "  <thead>\n",
       "    <tr style=\"text-align: right;\">\n",
       "      <th></th>\n",
       "      <th>year</th>\n",
       "      <th>rating</th>\n",
       "      <th>num_votes</th>\n",
       "      <th>title</th>\n",
       "      <th>recent_film</th>\n",
       "      <th>awarded</th>\n",
       "    </tr>\n",
       "  </thead>\n",
       "  <tbody>\n",
       "    <tr>\n",
       "      <th>0</th>\n",
       "      <td>1910</td>\n",
       "      <td>5.6</td>\n",
       "      <td>29</td>\n",
       "      <td>The Connecticut Yankee</td>\n",
       "      <td>0</td>\n",
       "      <td>0</td>\n",
       "    </tr>\n",
       "    <tr>\n",
       "      <th>1</th>\n",
       "      <td>1910</td>\n",
       "      <td>4.7</td>\n",
       "      <td>38</td>\n",
       "      <td>Abraham Lincoln's Clemency</td>\n",
       "      <td>0</td>\n",
       "      <td>0</td>\n",
       "    </tr>\n",
       "    <tr>\n",
       "      <th>2</th>\n",
       "      <td>1910</td>\n",
       "      <td>6.7</td>\n",
       "      <td>38</td>\n",
       "      <td>The Sanitarium</td>\n",
       "      <td>0</td>\n",
       "      <td>0</td>\n",
       "    </tr>\n",
       "    <tr>\n",
       "      <th>3</th>\n",
       "      <td>1910</td>\n",
       "      <td>4.7</td>\n",
       "      <td>24</td>\n",
       "      <td>Rip Van Winkle</td>\n",
       "      <td>0</td>\n",
       "      <td>0</td>\n",
       "    </tr>\n",
       "    <tr>\n",
       "      <th>4</th>\n",
       "      <td>1910</td>\n",
       "      <td>5.7</td>\n",
       "      <td>57</td>\n",
       "      <td>Jane Eyre</td>\n",
       "      <td>0</td>\n",
       "      <td>0</td>\n",
       "    </tr>\n",
       "  </tbody>\n",
       "</table>\n",
       "</div>"
      ],
      "text/plain": [
       "   year  rating  num_votes                       title  recent_film  awarded\n",
       "0  1910     5.6         29      The Connecticut Yankee            0        0\n",
       "1  1910     4.7         38  Abraham Lincoln's Clemency            0        0\n",
       "2  1910     6.7         38              The Sanitarium            0        0\n",
       "3  1910     4.7         24              Rip Van Winkle            0        0\n",
       "4  1910     5.7         57                   Jane Eyre            0        0"
      ]
     },
     "execution_count": 77,
     "metadata": {},
     "output_type": "execute_result"
    }
   ],
   "source": [
    "# Import packages and open data\n",
    "import pandas as pd\n",
    "df = pd.read_csv('imdb_cssci.csv') # Add path if necessary\n",
    "print(df.shape)\n",
    "df.head()"
   ]
  },
  {
   "cell_type": "code",
   "execution_count": 78,
   "id": "89233541",
   "metadata": {},
   "outputs": [
    {
     "data": {
      "text/plain": [
       "recent_film\n",
       "0    5.954845\n",
       "1    5.708871\n",
       "Name: rating, dtype: float64"
      ]
     },
     "execution_count": 78,
     "metadata": {},
     "output_type": "execute_result"
    }
   ],
   "source": [
    "# Compare the ratings for two groups \n",
    "df.groupby('recent_film')['rating'].mean()"
   ]
  },
  {
   "cell_type": "code",
   "execution_count": 79,
   "id": "a414efab",
   "metadata": {},
   "outputs": [],
   "source": [
    "# Now run a t-test and assess whether you can accept/reject the alternative hypothesis\n",
    "\n",
    "# Run an independent sample T-test\n",
    "import scipy.stats as stats # statistical tests\n",
    "t_statistic, p_value = stats.ttest_ind(a = df.loc[df['recent_film'] == 0, 'rating'], # vector of values for old films\n",
    "                                      b = df.loc[df['recent_film'] == 1, 'rating'], # vector of values for new films\n",
    "                                      alternative = 'two-sided',\n",
    "                                      nan_policy = 'omit')"
   ]
  },
  {
   "cell_type": "code",
   "execution_count": 80,
   "id": "912be556",
   "metadata": {},
   "outputs": [
    {
     "name": "stdout",
     "output_type": "stream",
     "text": [
      "t-statistic: 20.54842509469471\n",
      "p-value: 2.264764248276443e-93\n"
     ]
    }
   ],
   "source": [
    "# Printing out the results\n",
    "print(f't-statistic: {t_statistic}')\n",
    "print(f'p-value: {p_value}')"
   ]
  },
  {
   "cell_type": "code",
   "execution_count": 81,
   "id": "e9f8a042",
   "metadata": {},
   "outputs": [
    {
     "name": "stdout",
     "output_type": "stream",
     "text": [
      "p-value of 0.0 is lower than the alpha value of 0.05. \n",
      "The alternative hypothesis should be accepted. \n",
      "The mean values in two groups are stastically significantly different.\n"
     ]
    }
   ],
   "source": [
    "# Conclusions\n",
    "\n",
    "alpha = 0.05\n",
    "\n",
    "if p_value < alpha:\n",
    "  print(f'p-value of {round(p_value,3)} is lower than the alpha value of {alpha}. \\nThe alternative hypothesis should be accepted. \\\n",
    "\\nThe mean values in two groups are stastically significantly different.')\n",
    "  \n",
    "else:\n",
    "    print(f'p-value of {round(p_value,3)} is higher than alpha value of {alpha}. \\nThe null hypothesis should be retained. \\\n",
    "\\nThe mean values in two groups are not stastically significantly different.')"
   ]
  },
  {
   "cell_type": "markdown",
   "id": "daca6534",
   "metadata": {},
   "source": [
    "***\n",
    "\n",
    "**Interpretaton question 1:** \n",
    "\n",
    "Explain why you accept/reject the alternative hypothesis. Provide an intuitive explanation and then also one in which you demonstrate your mathematical knowledge, while using the terms \"alpha\", \"p-value\" and \"z-score\" in your answer. \n",
    "\n",
    "\n",
    "***"
   ]
  },
  {
   "cell_type": "markdown",
   "id": "4de63e33",
   "metadata": {},
   "source": [
    "Your answer: \n"
   ]
  },
  {
   "cell_type": "markdown",
   "id": "24a5606f",
   "metadata": {},
   "source": [
    "The reason why I accept the alternative hypothesis is that in hypothesis testing, the p-value represents the probability of obtaining results as extreme as the observed results, assuming the null hypothesis is true. In this case, the p-value(2.264764248276443e-93) is significantly smaller than the chosen significance level (alpha = 0.05). When the p-value is smaller than alpha, it suggests that the null hypothesis should be rejected in favor of the alternative hypothesis. Additionally, the t-test score of 20.54842509469471 suggests that the difference between the means of the two groups (older and recent films) is quite large relative to the variability within each group. Due to the large t-test score, the corresponding z-score will also be large. When compared with the critical values for a two-tailed test with alpha = 0.05, it will fall far beyond the cutoff points, leading to rejection of the null hypothesis and accept the alternative hypothesis."
   ]
  },
  {
   "cell_type": "markdown",
   "id": "66bdecde",
   "metadata": {},
   "source": [
    "### Do audiences and professionals agree on what is a good film?"
   ]
  },
  {
   "cell_type": "markdown",
   "id": "7716951d",
   "metadata": {},
   "source": [
    "***\n",
    "\n",
    "Different audiences can evaluate and valuate things in a different way. In cultural sociology, some make a useful distiction between _professional recognition_ (recognition that comes from other professionals in a field, often experts, who are trained in such an area) and audience recognition (consumers who aren't necessarily experts). \n",
    "\n",
    "This prompts the question: are the two groups agreeing or disagreeing on what is a good film? Something that can be studied with the following two variables. \n",
    "\n",
    "Independent variable (IV): awarded \n",
    "- 1) Film title received an award (indicative of professional recognition)\n",
    "- 0) Film title did not receive a film award\n",
    "\n",
    "Dependent variable (DV): high_rated\n",
    "- 1) Film is highly rated (indicative of audience recognition)\n",
    "- 0) Film is not highly rated\n",
    "\n",
    "Your research question may be:\n",
    "\n",
    "Is the **professional recognition** of films related to **audience recognition**?\n",
    "\n",
    "Your hypotheses:\n",
    "\n",
    "H0: Awards are _not related_ to high ratings\n",
    "\n",
    "Ha: Awards are _related_ to high ratings\n",
    "\n",
    "***\n"
   ]
  },
  {
   "cell_type": "markdown",
   "id": "04089f39",
   "metadata": {},
   "source": [
    "First, we like to create a cutoff point to identify \"highly rated\" films. If film titles have a rating that is higher than 1 standard deviation above the mean rating, then we consider it \"highly rated\". "
   ]
  },
  {
   "cell_type": "code",
   "execution_count": 82,
   "id": "5180f9a2",
   "metadata": {},
   "outputs": [
    {
     "name": "stdout",
     "output_type": "stream",
     "text": [
      "7.0670900497119895\n"
     ]
    },
    {
     "name": "stderr",
     "output_type": "stream",
     "text": [
      "/var/folders/2g/xfsvxxmd2158x4mn_qg2ycpr0000gn/T/ipykernel_10235/3030996765.py:3: FutureWarning: Series.__getitem__ treating keys as positions is deprecated. In a future version, integer keys will always be treated as labels (consistent with DataFrame behavior). To access a value by position, use `ser.iloc[pos]`\n",
      "  mean_std = basic_stats[0] + basic_stats[1]\n"
     ]
    }
   ],
   "source": [
    "# Create cutoff point by computing the mean and 1 standard deviation for ratings and add those to each other\n",
    "basic_stats = df.rating.describe().loc[['mean','std']]\n",
    "mean_std = basic_stats[0] + basic_stats[1]\n",
    "print(mean_std)"
   ]
  },
  {
   "cell_type": "code",
   "execution_count": 83,
   "id": "3f93457f",
   "metadata": {},
   "outputs": [
    {
     "data": {
      "text/html": [
       "<div>\n",
       "<style scoped>\n",
       "    .dataframe tbody tr th:only-of-type {\n",
       "        vertical-align: middle;\n",
       "    }\n",
       "\n",
       "    .dataframe tbody tr th {\n",
       "        vertical-align: top;\n",
       "    }\n",
       "\n",
       "    .dataframe thead th {\n",
       "        text-align: right;\n",
       "    }\n",
       "</style>\n",
       "<table border=\"1\" class=\"dataframe\">\n",
       "  <thead>\n",
       "    <tr style=\"text-align: right;\">\n",
       "      <th></th>\n",
       "      <th>year</th>\n",
       "      <th>rating</th>\n",
       "      <th>num_votes</th>\n",
       "      <th>title</th>\n",
       "      <th>recent_film</th>\n",
       "      <th>awarded</th>\n",
       "      <th>high_rated</th>\n",
       "    </tr>\n",
       "  </thead>\n",
       "  <tbody>\n",
       "    <tr>\n",
       "      <th>0</th>\n",
       "      <td>1910</td>\n",
       "      <td>5.6</td>\n",
       "      <td>29</td>\n",
       "      <td>The Connecticut Yankee</td>\n",
       "      <td>0</td>\n",
       "      <td>0</td>\n",
       "      <td>0</td>\n",
       "    </tr>\n",
       "    <tr>\n",
       "      <th>1</th>\n",
       "      <td>1910</td>\n",
       "      <td>4.7</td>\n",
       "      <td>38</td>\n",
       "      <td>Abraham Lincoln's Clemency</td>\n",
       "      <td>0</td>\n",
       "      <td>0</td>\n",
       "      <td>0</td>\n",
       "    </tr>\n",
       "    <tr>\n",
       "      <th>2</th>\n",
       "      <td>1910</td>\n",
       "      <td>6.7</td>\n",
       "      <td>38</td>\n",
       "      <td>The Sanitarium</td>\n",
       "      <td>0</td>\n",
       "      <td>0</td>\n",
       "      <td>0</td>\n",
       "    </tr>\n",
       "    <tr>\n",
       "      <th>3</th>\n",
       "      <td>1910</td>\n",
       "      <td>4.7</td>\n",
       "      <td>24</td>\n",
       "      <td>Rip Van Winkle</td>\n",
       "      <td>0</td>\n",
       "      <td>0</td>\n",
       "      <td>0</td>\n",
       "    </tr>\n",
       "    <tr>\n",
       "      <th>4</th>\n",
       "      <td>1910</td>\n",
       "      <td>5.7</td>\n",
       "      <td>57</td>\n",
       "      <td>Jane Eyre</td>\n",
       "      <td>0</td>\n",
       "      <td>0</td>\n",
       "      <td>0</td>\n",
       "    </tr>\n",
       "    <tr>\n",
       "      <th>...</th>\n",
       "      <td>...</td>\n",
       "      <td>...</td>\n",
       "      <td>...</td>\n",
       "      <td>...</td>\n",
       "      <td>...</td>\n",
       "      <td>...</td>\n",
       "      <td>...</td>\n",
       "    </tr>\n",
       "    <tr>\n",
       "      <th>42495</th>\n",
       "      <td>2009</td>\n",
       "      <td>4.8</td>\n",
       "      <td>733</td>\n",
       "      <td>Breaking Point</td>\n",
       "      <td>1</td>\n",
       "      <td>0</td>\n",
       "      <td>0</td>\n",
       "    </tr>\n",
       "    <tr>\n",
       "      <th>42496</th>\n",
       "      <td>2009</td>\n",
       "      <td>8.8</td>\n",
       "      <td>15</td>\n",
       "      <td>Under One Sun</td>\n",
       "      <td>1</td>\n",
       "      <td>0</td>\n",
       "      <td>1</td>\n",
       "    </tr>\n",
       "    <tr>\n",
       "      <th>42497</th>\n",
       "      <td>2009</td>\n",
       "      <td>7.8</td>\n",
       "      <td>20</td>\n",
       "      <td>Taylor's Way</td>\n",
       "      <td>1</td>\n",
       "      <td>1</td>\n",
       "      <td>1</td>\n",
       "    </tr>\n",
       "    <tr>\n",
       "      <th>42498</th>\n",
       "      <td>2009</td>\n",
       "      <td>4.2</td>\n",
       "      <td>419</td>\n",
       "      <td>Babysitters Beware</td>\n",
       "      <td>1</td>\n",
       "      <td>0</td>\n",
       "      <td>0</td>\n",
       "    </tr>\n",
       "    <tr>\n",
       "      <th>42499</th>\n",
       "      <td>2009</td>\n",
       "      <td>4.3</td>\n",
       "      <td>162</td>\n",
       "      <td>Sam Steele and the Junior Detective Agency</td>\n",
       "      <td>1</td>\n",
       "      <td>0</td>\n",
       "      <td>0</td>\n",
       "    </tr>\n",
       "  </tbody>\n",
       "</table>\n",
       "<p>42500 rows × 7 columns</p>\n",
       "</div>"
      ],
      "text/plain": [
       "       year  rating  num_votes                                       title  \\\n",
       "0      1910     5.6         29                      The Connecticut Yankee   \n",
       "1      1910     4.7         38                  Abraham Lincoln's Clemency   \n",
       "2      1910     6.7         38                              The Sanitarium   \n",
       "3      1910     4.7         24                              Rip Van Winkle   \n",
       "4      1910     5.7         57                                   Jane Eyre   \n",
       "...     ...     ...        ...                                         ...   \n",
       "42495  2009     4.8        733                              Breaking Point   \n",
       "42496  2009     8.8         15                               Under One Sun   \n",
       "42497  2009     7.8         20                                Taylor's Way   \n",
       "42498  2009     4.2        419                          Babysitters Beware   \n",
       "42499  2009     4.3        162  Sam Steele and the Junior Detective Agency   \n",
       "\n",
       "       recent_film  awarded  high_rated  \n",
       "0                0        0           0  \n",
       "1                0        0           0  \n",
       "2                0        0           0  \n",
       "3                0        0           0  \n",
       "4                0        0           0  \n",
       "...            ...      ...         ...  \n",
       "42495            1        0           0  \n",
       "42496            1        0           1  \n",
       "42497            1        1           1  \n",
       "42498            1        0           0  \n",
       "42499            1        0           0  \n",
       "\n",
       "[42500 rows x 7 columns]"
      ]
     },
     "execution_count": 83,
     "metadata": {},
     "output_type": "execute_result"
    }
   ],
   "source": [
    "# Create a new binary variable \"high_rated\" based on this cuttoff point\n",
    "import numpy as np\n",
    "df['high_rated'] = np.where(df['rating'] > mean_std,1,0)\n",
    "df"
   ]
  },
  {
   "cell_type": "code",
   "execution_count": 84,
   "id": "32c56208",
   "metadata": {},
   "outputs": [],
   "source": [
    "# Now run your crosstabs"
   ]
  },
  {
   "cell_type": "code",
   "execution_count": 85,
   "id": "8afbe6ff",
   "metadata": {},
   "outputs": [
    {
     "data": {
      "text/html": [
       "<div>\n",
       "<style scoped>\n",
       "    .dataframe tbody tr th:only-of-type {\n",
       "        vertical-align: middle;\n",
       "    }\n",
       "\n",
       "    .dataframe tbody tr th {\n",
       "        vertical-align: top;\n",
       "    }\n",
       "\n",
       "    .dataframe thead th {\n",
       "        text-align: right;\n",
       "    }\n",
       "</style>\n",
       "<table border=\"1\" class=\"dataframe\">\n",
       "  <thead>\n",
       "    <tr style=\"text-align: right;\">\n",
       "      <th>high_rated</th>\n",
       "      <th>0</th>\n",
       "      <th>1</th>\n",
       "      <th>All</th>\n",
       "    </tr>\n",
       "    <tr>\n",
       "      <th>awarded</th>\n",
       "      <th></th>\n",
       "      <th></th>\n",
       "      <th></th>\n",
       "    </tr>\n",
       "  </thead>\n",
       "  <tbody>\n",
       "    <tr>\n",
       "      <th>0</th>\n",
       "      <td>30937</td>\n",
       "      <td>3663</td>\n",
       "      <td>34600</td>\n",
       "    </tr>\n",
       "    <tr>\n",
       "      <th>1</th>\n",
       "      <td>5487</td>\n",
       "      <td>2413</td>\n",
       "      <td>7900</td>\n",
       "    </tr>\n",
       "    <tr>\n",
       "      <th>All</th>\n",
       "      <td>36424</td>\n",
       "      <td>6076</td>\n",
       "      <td>42500</td>\n",
       "    </tr>\n",
       "  </tbody>\n",
       "</table>\n",
       "</div>"
      ],
      "text/plain": [
       "high_rated      0     1    All\n",
       "awarded                       \n",
       "0           30937  3663  34600\n",
       "1            5487  2413   7900\n",
       "All         36424  6076  42500"
      ]
     },
     "execution_count": 85,
     "metadata": {},
     "output_type": "execute_result"
    }
   ],
   "source": [
    "# Running a crosstab\n",
    "crosstab = pd.crosstab(df['awarded'], df['high_rated'], margins=True)\n",
    "crosstab"
   ]
  },
  {
   "cell_type": "code",
   "execution_count": 86,
   "id": "97e68ecf",
   "metadata": {},
   "outputs": [
    {
     "data": {
      "text/html": [
       "<div>\n",
       "<style scoped>\n",
       "    .dataframe tbody tr th:only-of-type {\n",
       "        vertical-align: middle;\n",
       "    }\n",
       "\n",
       "    .dataframe tbody tr th {\n",
       "        vertical-align: top;\n",
       "    }\n",
       "\n",
       "    .dataframe thead th {\n",
       "        text-align: right;\n",
       "    }\n",
       "</style>\n",
       "<table border=\"1\" class=\"dataframe\">\n",
       "  <thead>\n",
       "    <tr style=\"text-align: right;\">\n",
       "      <th>high_rated</th>\n",
       "      <th>0</th>\n",
       "      <th>1</th>\n",
       "    </tr>\n",
       "    <tr>\n",
       "      <th>awarded</th>\n",
       "      <th></th>\n",
       "      <th></th>\n",
       "    </tr>\n",
       "  </thead>\n",
       "  <tbody>\n",
       "    <tr>\n",
       "      <th>0</th>\n",
       "      <td>89.0</td>\n",
       "      <td>11.0</td>\n",
       "    </tr>\n",
       "    <tr>\n",
       "      <th>1</th>\n",
       "      <td>69.0</td>\n",
       "      <td>31.0</td>\n",
       "    </tr>\n",
       "  </tbody>\n",
       "</table>\n",
       "</div>"
      ],
      "text/plain": [
       "high_rated     0     1\n",
       "awarded               \n",
       "0           89.0  11.0\n",
       "1           69.0  31.0"
      ]
     },
     "execution_count": 86,
     "metadata": {},
     "output_type": "execute_result"
    }
   ],
   "source": [
    "# Running a normalized crosstab\n",
    "\n",
    "crosstab_prop = round(pd.crosstab(df['awarded'], df['high_rated'], normalize='index'),2) * 100\n",
    "crosstab_prop"
   ]
  },
  {
   "cell_type": "markdown",
   "id": "f4fae14e",
   "metadata": {},
   "source": [
    "***\n",
    "\n",
    "**Interpretaton question 2:** \n",
    "\n",
    "Your Core Lecturer Rens thought it would be a good idea to construct a cutoff point by adding 1 standard deviation to the mean film rating. 2.1) What could be the reasoning behind his choice? 2.2) Propose an alternative way to construct a cutoff point to identify \"highly rated\" films, and explain why you may want to use this.  \n",
    "\n",
    "\n",
    "***"
   ]
  },
  {
   "cell_type": "markdown",
   "id": "68a7df1a",
   "metadata": {},
   "source": [
    "Your answer:"
   ]
  },
  {
   "cell_type": "markdown",
   "id": "ec3166d8",
   "metadata": {},
   "source": [
    "2.1)Because the entire data set is normally distributed and there is a large amount of data in the middle, Rens wants to use this method to improve the standards for ’high-rated‘ and make the identification of high-rated and low-rated movies more accurate and statistical results more effective.\n",
    "2.2)I can also use quartile calculations to define high-rated movies. The quartiles of movie ratings are first calculated, and then the value of the third quartile is used as the cutoff for \"highly rated\" movies. Movies with ratings above this cutoff are considered high-rated. This is because quartiles are interpretable, providing easily interpretable cutoff points based on the distribution of ratings. Movies ranked above the third quartile are intuitively considered highly rated compared to most other movies.Additionally, quartiles are robust to outliers in the data, minimizing the impact of extreme values."
   ]
  },
  {
   "cell_type": "code",
   "execution_count": 87,
   "id": "33a10242",
   "metadata": {},
   "outputs": [],
   "source": [
    "# Now run a Chi square-test and assess whether you can accept/reject the alternative hypothesis"
   ]
  },
  {
   "cell_type": "code",
   "execution_count": 92,
   "id": "87cbf5c2",
   "metadata": {},
   "outputs": [
    {
     "name": "stdout",
     "output_type": "stream",
     "text": [
      "The Chi-squared statistic value: 10.880048221820374\n",
      "The p-value: 0.0009720571562669138\n",
      "Number of degrees of freedom: 1\n"
     ]
    }
   ],
   "source": [
    "cs_statistic, p_value, dof, expected = stats.chi2_contingency(crosstab_prop)\n",
    "\n",
    "print(f'The Chi-squared statistic value: {cs_statistic}')\n",
    "print(f'The p-value: {p_value}')\n",
    "print(f'Number of degrees of freedom: {dof}')"
   ]
  },
  {
   "cell_type": "code",
   "execution_count": 89,
   "id": "08f08d5e",
   "metadata": {},
   "outputs": [
    {
     "name": "stdout",
     "output_type": "stream",
     "text": [
      "Expected values: [[29653.42117647  4946.57882353 34600.        ]\n",
      " [ 6770.57882353  1129.42117647  7900.        ]\n",
      " [36424.          6076.         42500.        ]]\n"
     ]
    }
   ],
   "source": [
    "print(f'Expected values: {expected}')"
   ]
  },
  {
   "cell_type": "code",
   "execution_count": 90,
   "id": "689eb578",
   "metadata": {},
   "outputs": [
    {
     "data": {
      "text/html": [
       "<div>\n",
       "<style scoped>\n",
       "    .dataframe tbody tr th:only-of-type {\n",
       "        vertical-align: middle;\n",
       "    }\n",
       "\n",
       "    .dataframe tbody tr th {\n",
       "        vertical-align: top;\n",
       "    }\n",
       "\n",
       "    .dataframe thead th {\n",
       "        text-align: right;\n",
       "    }\n",
       "</style>\n",
       "<table border=\"1\" class=\"dataframe\">\n",
       "  <thead>\n",
       "    <tr style=\"text-align: right;\">\n",
       "      <th></th>\n",
       "      <th>0</th>\n",
       "      <th>1</th>\n",
       "      <th>All</th>\n",
       "    </tr>\n",
       "  </thead>\n",
       "  <tbody>\n",
       "    <tr>\n",
       "      <th>0</th>\n",
       "      <td>29653.421176</td>\n",
       "      <td>4946.578824</td>\n",
       "      <td>34600.0</td>\n",
       "    </tr>\n",
       "    <tr>\n",
       "      <th>1</th>\n",
       "      <td>6770.578824</td>\n",
       "      <td>1129.421176</td>\n",
       "      <td>7900.0</td>\n",
       "    </tr>\n",
       "    <tr>\n",
       "      <th>2</th>\n",
       "      <td>36424.000000</td>\n",
       "      <td>6076.000000</td>\n",
       "      <td>42500.0</td>\n",
       "    </tr>\n",
       "  </tbody>\n",
       "</table>\n",
       "</div>"
      ],
      "text/plain": [
       "              0            1      All\n",
       "0  29653.421176  4946.578824  34600.0\n",
       "1   6770.578824  1129.421176   7900.0\n",
       "2  36424.000000  6076.000000  42500.0"
      ]
     },
     "execution_count": 90,
     "metadata": {},
     "output_type": "execute_result"
    }
   ],
   "source": [
    "# Turn the array \"expected\" (created above) into a dataframe to improve readability\n",
    "df1 = pd.DataFrame({'0': expected[:, 0], '1': expected[:, 1], 'All': expected[:, 2]})\n",
    "df1"
   ]
  },
  {
   "cell_type": "code",
   "execution_count": 91,
   "id": "0cf971ad",
   "metadata": {},
   "outputs": [
    {
     "name": "stdout",
     "output_type": "stream",
     "text": [
      "p-value of 0.0 is lower than the alpha value of 0.05. \n",
      "The alternative hypothesis should be accepted. \n",
      "The tone of message is related to the subscription rate.\n"
     ]
    }
   ],
   "source": [
    "# Interpreting the p-value and drawing the conclusions\n",
    "\n",
    "alpha = 0.05 # setting the alpha value of 5%\n",
    "\n",
    "if p_value < alpha:\n",
    "  print(f'p-value of {round(p_value,3)} is lower than the alpha value of {alpha}. \\nThe alternative hypothesis should be accepted. \\\n",
    "\\nThe tone of message is related to the subscription rate.')\n",
    "  \n",
    "else:\n",
    "    print(f'p-value of {round(p_value,3)} is higher than alpha value of {alpha}. \\nThe null hypothesis should be retained. \\\n",
    "\\nThe tone of message is not related to the subscription rate.')"
   ]
  },
  {
   "cell_type": "markdown",
   "id": "55339fbf",
   "metadata": {},
   "source": [
    "***\n",
    "\n",
    "**Interpretaton question 3:** \n",
    "\n",
    "3.1) Shortly explain why you accept/reject the alternative hypothesis. 3.2) Now explain the intuition behind the formula that is used to compute the Chi-squared statistic, use the terms \"observed\" and \"expected\" values in your answer, and use the two-way tables (crosstab) that are created above. 3.3) Can you suggest another way (different data or methods) with which one could study differences between the evaluations by professionals and more broader audiences? \n",
    "\n",
    "\n",
    "***"
   ]
  },
  {
   "cell_type": "markdown",
   "id": "3149b542",
   "metadata": {},
   "source": [
    "Your answer:"
   ]
  },
  {
   "cell_type": "markdown",
   "id": "724f89c0",
   "metadata": {},
   "source": [
    "3.1) I accept the alternative hypothesis because the calculated p-value(0.0009720571562669138) is much lower than alpha(0.05), which means the possibility that null hypothesis happens is quite low. So I can accept the alternative hypothesis.\n",
    "3.2) The intuition behind the formula for computing the chi-squared statistic lies in comparing the observed frequencies (counts) of the categories in your crosstable to the frequencies that would be expected if there was no association between the variables. In order to explain the intuition behind the formula, take high-rated and award-winning movies in the chi-square crosstab created above as an example. The observed value of award-winning and high-rated movies is its actual observed frequency; its expected value is derived from the product of the total number of award-winning movies and high ratings. , divided by the quotient of the sum of the total rows and total columns. That is (7900*6076)/42500=1129. I subtracted the expected value from the observed values of the four types (awarded with high ratings, no awarded with high ratings, awarded with low ratings, and no awarded with low ratings), and then divided the square of the differences by the expected value, and finally summed it up: The chi-square value can be obtained.\n",
    "3.3)In addition to the award data and rating data, I think the number of votes and ratings can also be used. Because the number of votes better reflects the specific preferences of the judges. We can use the same method used to process the rating and award data before to create a crosstab of the voting data and rating data, and then draw the corresponding conclusion through the chi-square test."
   ]
  }
 ],
 "metadata": {
  "kernelspec": {
   "display_name": "Python 3 (ipykernel)",
   "language": "python",
   "name": "python3"
  },
  "language_info": {
   "codemirror_mode": {
    "name": "ipython",
    "version": 3
   },
   "file_extension": ".py",
   "mimetype": "text/x-python",
   "name": "python",
   "nbconvert_exporter": "python",
   "pygments_lexer": "ipython3",
   "version": "3.11.5"
  }
 },
 "nbformat": 4,
 "nbformat_minor": 5
}
